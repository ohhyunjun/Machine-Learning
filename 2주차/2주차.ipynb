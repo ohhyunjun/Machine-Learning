{
 "cells": [
  {
   "cell_type": "code",
   "execution_count": 4,
   "id": "a342815b-b952-48d8-b2d2-a2f512499b72",
   "metadata": {},
   "outputs": [],
   "source": [
    "import numpy as np"
   ]
  },
  {
   "cell_type": "code",
   "execution_count": 7,
   "id": "08c78f81-8b2a-4791-ab6f-036e0ca24689",
   "metadata": {},
   "outputs": [],
   "source": [
    "class Layer:\n",
    "    def __init__(self):\n",
    "        self.layer = []\n",
    "    def add_layer(self, new_layer):\n",
    "        self.layer.append(new_layer)\n",
    "    def delete_layer(self, index):\n",
    "        if 0<= index < len(self.layer):\n",
    "            del self.layer[index]\n",
    "    def get_layer(self, index):\n",
    "        if  0<=index<len(self.layer):\n",
    "            return self.layer[index]\n",
    "        else:\n",
    "            print(\"Invalid index, Layer does not exist.\")\n",
    "            return None\n",
    "    def __str__(self):\n",
    "        return str(self.layer)"
   ]
  },
  {
   "cell_type": "code",
   "execution_count": 18,
   "id": "72a6caaa-fe9b-405e-8a43-68e5243067b4",
   "metadata": {},
   "outputs": [
    {
     "name": "stdout",
     "output_type": "stream",
     "text": [
      "[[1, 2, 3], [4, 5, 6]]\n",
      "[[1, 2, 3]]\n",
      "[1, 2, 3]\n",
      "Invalid index, Layer does not exist.\n",
      "None\n"
     ]
    }
   ],
   "source": [
    "my_layer = Layer()\n",
    "my_layer.add_layer([1, 2, 3])\n",
    "my_layer.add_layer([4, 5, 6])\n",
    "print(my_layer)\n",
    "my_layer.delete_layer(1)\n",
    "print(my_layer)\n",
    "print(my_layer.get_layer(0))\n",
    "print(my_layer.get_layer(1))"
   ]
  },
  {
   "cell_type": "markdown",
   "id": "cd05ee50-3056-4c3d-be1c-01e6d876b817",
   "metadata": {},
   "source": []
  },
  {
   "cell_type": "code",
   "execution_count": 20,
   "id": "e0a2feb2-cf47-45b6-b3ea-af748501256a",
   "metadata": {},
   "outputs": [
    {
     "name": "stdout",
     "output_type": "stream",
     "text": [
      "array의 자료형 :  <class 'numpy.ndarray'>\n"
     ]
    }
   ],
   "source": [
    "array = np.array([1, 2, 3, 4, 5]) #넘파이 행렬구조 생성\n",
    "print(\"array의 자료형 : \", type(array))"
   ]
  },
  {
   "cell_type": "code",
   "execution_count": 22,
   "id": "e706af79-d144-4b46-a364-15c26f579a2e",
   "metadata": {},
   "outputs": [
    {
     "name": "stdout",
     "output_type": "stream",
     "text": [
      "[1 2 3]\n"
     ]
    }
   ],
   "source": [
    "array1 = np.array([1, 2, 3])\n",
    "print(array1)"
   ]
  },
  {
   "cell_type": "code",
   "execution_count": 24,
   "id": "ac1cb64f-ab8b-4505-803a-767401594ee3",
   "metadata": {},
   "outputs": [
    {
     "name": "stdout",
     "output_type": "stream",
     "text": [
      "[[1 2 3]\n",
      " [4 5 6]]\n"
     ]
    }
   ],
   "source": [
    "array2 = np.array([[1,2,3],[4,5,6]]) #2x3행렬\n",
    "print(array2)"
   ]
  },
  {
   "cell_type": "code",
   "execution_count": 26,
   "id": "b33130bd-fc3b-4254-a4dc-319f6167dd3b",
   "metadata": {},
   "outputs": [
    {
     "name": "stdout",
     "output_type": "stream",
     "text": [
      "[[[ 1  2  3]\n",
      "  [ 4  5  6]]\n",
      "\n",
      " [[ 7  8  9]\n",
      "  [10 11 12]]]\n"
     ]
    }
   ],
   "source": [
    "array3 = np.array([[[1,2,3],[4,5,6]],[[7,8,9],[10,11,12]]])#2x2x3행렬\n",
    "print(array3)"
   ]
  },
  {
   "cell_type": "code",
   "execution_count": 28,
   "id": "b1694311-8562-4411-87fb-99412264aace",
   "metadata": {},
   "outputs": [
    {
     "name": "stdout",
     "output_type": "stream",
     "text": [
      "행렬의 차원 :  1\n",
      "행렬의 모양 : (3,)\n",
      "[1 2 3]\n"
     ]
    }
   ],
   "source": [
    "array1 = np.array([1,2,3])\n",
    "print('행렬의 차원 : ', array1.ndim) #차원\n",
    "print('행렬의 모양 :', array1.shape) #모양은 1차원은 3,으로 나옴\n",
    "print(array1)"
   ]
  },
  {
   "cell_type": "code",
   "execution_count": 30,
   "id": "b3ddf162-dc5b-4f8d-b1e8-5395ef7b3326",
   "metadata": {},
   "outputs": [
    {
     "name": "stdout",
     "output_type": "stream",
     "text": [
      "행렬의 차원 : 2\n",
      "행렬의 모양 : (2, 3)\n",
      "[[1 2 3]\n",
      " [4 5 6]]\n"
     ]
    }
   ],
   "source": [
    "array2 = np.array([[1,2,3],[4,5,6]])\n",
    "print('행렬의 차원 :', array2.ndim)\n",
    "print('행렬의 모양 :', array2.shape)\n",
    "print(array2)"
   ]
  },
  {
   "cell_type": "code",
   "execution_count": 32,
   "id": "4b6a5069-3a05-412b-b83e-7260a4b44a31",
   "metadata": {},
   "outputs": [
    {
     "name": "stdout",
     "output_type": "stream",
     "text": [
      "행렬의 차원 : 3\n",
      "행렬의 모양 : (2, 2, 3)\n",
      "[[[ 1  2  3]\n",
      "  [ 4  5  6]]\n",
      "\n",
      " [[ 7  8  9]\n",
      "  [10 11 12]]]\n"
     ]
    }
   ],
   "source": [
    "array3 = np.array([[[1,2,3],[4,5,6]],[[7,8,9],[10,11,12]]])\n",
    "print('행렬의 차원 :', array3.ndim)\n",
    "print('행렬의 모양 :', array3.shape)\n",
    "print(array3)"
   ]
  },
  {
   "cell_type": "code",
   "execution_count": 34,
   "id": "d0d5a190-437d-42d8-9b9d-28351cd01b6a",
   "metadata": {},
   "outputs": [
    {
     "name": "stdout",
     "output_type": "stream",
     "text": [
      "행렬의 차원 : 1\n",
      "행렬의 모양 : (12,)\n",
      "데이터 개수 : 12\n",
      "[ 1  2  3  4  5  6  7  8  9 10 11 12]\n"
     ]
    }
   ],
   "source": [
    "array1 = np.array([1,2,3,4,5,6,7,8,9,10,11,12])\n",
    "print('행렬의 차원 :', array1.ndim)\n",
    "print('행렬의 모양 :', array1.shape)\n",
    "print('데이터 개수 :', array1.size)\n",
    "print(array1)"
   ]
  },
  {
   "cell_type": "code",
   "execution_count": 36,
   "id": "6876cf0e-3685-495d-980a-6468b00f5723",
   "metadata": {},
   "outputs": [
    {
     "name": "stdout",
     "output_type": "stream",
     "text": [
      "행렬의 차원 : 2\n",
      "행렬의 모양 : (2, 6)\n",
      "데이터 개수 : 12\n",
      "[[ 1  2  3  4  5  6]\n",
      " [ 7  8  9 10 11 12]]\n"
     ]
    }
   ],
   "source": [
    "array2 = array1.reshape(2,6) # array1의 행렬을 2x6으로 바꿈\n",
    "print('행렬의 차원 :', array2.ndim)\n",
    "print('행렬의 모양 :', array2.shape)\n",
    "print('데이터 개수 :', array2.size)\n",
    "print(array2)"
   ]
  },
  {
   "cell_type": "code",
   "execution_count": 38,
   "id": "d2d319b0-a74f-4622-bbad-be5a67a1d5b2",
   "metadata": {},
   "outputs": [
    {
     "name": "stdout",
     "output_type": "stream",
     "text": [
      "행렬의 차원 : 3\n",
      "행렬의 모양 : (2, 2, 3)\n",
      "데이터 개수 : 12\n",
      "[[[ 1  2  3]\n",
      "  [ 4  5  6]]\n",
      "\n",
      " [[ 7  8  9]\n",
      "  [10 11 12]]]\n"
     ]
    }
   ],
   "source": [
    "array3 = array1.reshape(2,2,3)\n",
    "print('행렬의 차원 :', array3.ndim)\n",
    "print('행렬의 모양 :', array3.shape)\n",
    "print('데이터 개수 :', array3.size)\n",
    "print(array3)"
   ]
  },
  {
   "cell_type": "code",
   "execution_count": 40,
   "id": "1d426d84-a674-49c2-a183-8fc11382b876",
   "metadata": {},
   "outputs": [
    {
     "name": "stdout",
     "output_type": "stream",
     "text": [
      "array2 행렬의 모양 :  (2, 6)\n",
      "[[ 1  2  3  4  5  6]\n",
      " [ 7  8  9 10 11 12]]\n"
     ]
    }
   ],
   "source": [
    "array1 = np.array([1,2,3,4,5,6,7,8,9,10,11,12])\n",
    "array2 = array1.reshape(2,-1) # 12/2=6이므로 (2, 6)으로 생성\n",
    "print(\"array2 행렬의 모양 : \", array2.shape)\n",
    "print(array2)"
   ]
  },
  {
   "cell_type": "code",
   "execution_count": 42,
   "id": "21245248-f033-49f1-9a7f-615f0b74ed62",
   "metadata": {},
   "outputs": [
    {
     "name": "stdout",
     "output_type": "stream",
     "text": [
      "array2 행렬의 모양 :  (3, 4)\n",
      "[[ 1  2  3  4]\n",
      " [ 5  6  7  8]\n",
      " [ 9 10 11 12]]\n"
     ]
    }
   ],
   "source": [
    "array1 = np.array([1,2,3,4,5,6,7,8,9,10,11,12])\n",
    "array2 = array1.reshape(-1, 4)\n",
    "print(\"array2 행렬의 모양 : \", array2.shape)\n",
    "print(array2)"
   ]
  },
  {
   "cell_type": "code",
   "execution_count": 44,
   "id": "bef23eef-8e7a-46e7-8d6d-70496f847a61",
   "metadata": {},
   "outputs": [
    {
     "name": "stdout",
     "output_type": "stream",
     "text": [
      "배열의 전체 요소 :  [ 1  2  3  4  5  6  7  8  9 10 11 12]\n",
      "배열의 전체 요소 :  [ 1  2  3  4  5  6  7  8  9 10 11 12]\n",
      "배열의 5번째 요소 :  5\n",
      "배열의 7~10번째 요소 :  [ 7  8  9 10]\n"
     ]
    }
   ],
   "source": [
    "array1 = np.array([1,2,3,4,5,6,7,8,9,10,11,12])\n",
    "print('배열의 전체 요소 : ', array1)\n",
    "print('배열의 전체 요소 : ', array1[:]) \n",
    "print('배열의 5번째 요소 : ', array1[4])\n",
    "print(\"배열의 7~10번째 요소 : \", array1[6:10])"
   ]
  },
  {
   "cell_type": "code",
   "execution_count": 46,
   "id": "619fa500-c309-43e8-9b01-fe90a291cc99",
   "metadata": {},
   "outputs": [
    {
     "name": "stdout",
     "output_type": "stream",
     "text": [
      "처음 배열 요소 :  [ 1  2  3  4  5  6  7  8  9 10 11 12]\n",
      "11번째 요소에 99 추가 후 배열 요소 : [ 1  2  3  4  5  6  7  8  9 10 99 12]\n"
     ]
    }
   ],
   "source": [
    "array1 = np.array([1,2,3,4,5,6,7,8,9,10,11,12])\n",
    "print('처음 배열 요소 : ', array1)\n",
    "array1[10] = 99\n",
    "print('11번째 요소에 99 추가 후 배열 요소 :', array1)"
   ]
  },
  {
   "cell_type": "code",
   "execution_count": 48,
   "id": "02f917b1-0201-403f-9a81-1d6c6406d8ed",
   "metadata": {},
   "outputs": [
    {
     "name": "stdout",
     "output_type": "stream",
     "text": [
      "처음 배열 요소 :  [ 1  2  3  4  5  6  7  8  9 10 11 12]\n",
      "9~10번째 요소에 99 추가 후 배열 요소 : [ 1  2  3  4  5  6  7  8 99 99 11 12]\n",
      "3~5번째 요소에 13~15 추가 후 배열 요소 : [ 1  2 13 14 15  6  7  8 99 99 11 12]\n"
     ]
    }
   ],
   "source": [
    "array1 = np.array([1,2,3,4,5,6,7,8,9,10,11,12])\n",
    "print('처음 배열 요소 : ', array1)\n",
    "array1[8 : 10] = 99\n",
    "print('9~10번째 요소에 99 추가 후 배열 요소 :', array1)\n",
    "array1[2:5] = [13, 14, 15] \n",
    "print('3~5번째 요소에 13~15 추가 후 배열 요소 :', array1)"
   ]
  },
  {
   "cell_type": "code",
   "execution_count": 8,
   "id": "9ad7adfc-2103-4e48-b973-11ba3d7de8cc",
   "metadata": {},
   "outputs": [
    {
     "name": "stdout",
     "output_type": "stream",
     "text": [
      "배열의 전체 요소 : \n",
      "[[ 1  2  3  4]\n",
      " [ 5  6  7  8]\n",
      " [ 9 10 11 12]\n",
      " [13  4 15 16]]\n",
      "배열의 전체 요소 : \n",
      "[[ 1  2  3  4]\n",
      " [ 5  6  7  8]\n",
      " [ 9 10 11 12]\n",
      " [13  4 15 16]]\n",
      "-----------------\n",
      "배열의 2번째 행 : \n",
      "[5 6 7 8]\n",
      "배열의 2번째 행 : \n",
      "[5 6 7 8]\n",
      "-----------------\n",
      "배열의 3행~4행 : \n",
      "[[ 9 10 11 12]\n",
      " [13  4 15 16]]\n",
      "배열의 3행~4행 : \n",
      "[[ 9 10 11 12]\n",
      " [13  4 15 16]]\n",
      "-----------------\n"
     ]
    }
   ],
   "source": [
    "array1 = np.array([[1,2,3,4],[5,6,7,8],[9,10,11,12],[13,4,15,16]])\n",
    "print('배열의 전체 요소 : ', array1[:], sep='\\n')\n",
    "print('배열의 전체 요소 : ', array1[:,:], sep='\\n')\n",
    "print('-----------------')\n",
    "\n",
    "print('배열의 2번째 행 : ', array1[1], sep='\\n') # 2번째 뽑음. 즉 [n]은 인덱스 값임\n",
    "print('배열의 2번째 행 : ', array1[1, :], sep='\\n')\n",
    "print('-----------------')\n",
    "\n",
    "print('배열의 3행~4행 : ', array1[2:4], sep='\\n') # 3~4행 뽑음. 번째 수 값임.\n",
    "print('배열의 3행~4행 : ', array1[2:4, :], sep='\\n')\n",
    "print('-----------------')"
   ]
  },
  {
   "cell_type": "code",
   "execution_count": 52,
   "id": "8e8774de-6ac9-4da6-8e92-26a26d1730d6",
   "metadata": {},
   "outputs": [
    {
     "name": "stdout",
     "output_type": "stream",
     "text": [
      "배열의 전체 요소 : \n",
      "[[ 1  2  3  4]\n",
      " [ 5  6  7  8]\n",
      " [ 9 10 11 12]\n",
      " [13  4 15 16]]\n",
      "-----------------\n",
      "배열의 2번째 열 : \n",
      "[ 2  6 10  4]\n",
      "배열의 2번째 행 : \n",
      "[5 6 7 8]\n",
      "-----------------\n",
      "배열의 3열~4열 : \n",
      "[[ 3  4]\n",
      " [ 7  8]\n",
      " [11 12]\n",
      " [15 16]]\n",
      "배열의 3행~4행 : \n",
      "[[ 9 10 11 12]\n",
      " [13  4 15 16]]\n",
      "-----------------\n"
     ]
    }
   ],
   "source": [
    "array1 = np.array([[1,2,3,4],[5,6,7,8],[9,10,11,12],[13,4,15,16]])\n",
    "print('배열의 전체 요소 : ', array1, sep='\\n')\n",
    "print('-----------------')\n",
    "\n",
    "print('배열의 2번째 열 : ', array1[:, 1], sep='\\n')\n",
    "print('배열의 2번째 행 : ', array1[1], sep='\\n')\n",
    "print('-----------------')\n",
    "\n",
    "print('배열의 3열~4열 : ', array1[:, 2:4], sep='\\n')\n",
    "print('배열의 3행~4행 : ', array1[2:4], sep='\\n')\n",
    "print('-----------------')"
   ]
  },
  {
   "cell_type": "code",
   "execution_count": 54,
   "id": "b8629026-3601-4f47-bec9-728a4967105e",
   "metadata": {},
   "outputs": [
    {
     "name": "stdout",
     "output_type": "stream",
     "text": [
      "배열(array2)의 전체 요소 : \n",
      "[[[ 0  1  2  3]\n",
      "  [ 4  5  6  7]]\n",
      "\n",
      " [[ 8  9 10 11]\n",
      "  [12 13 14 15]]\n",
      "\n",
      " [[16 17 18 19]\n",
      "  [20 21 22 23]]\n",
      "\n",
      " [[24 25 26 27]\n",
      "  [28 29 30 31]]]\n"
     ]
    }
   ],
   "source": [
    "array1 = np.array([[1,2,3,4],[5,6,7,8],[9,10,11,12],[13,4,15,16]])\n",
    "array1 = np.arange(0, 32) # 범위\n",
    "array2 = array1.reshape([4,2,4])\n",
    "print('배열(array2)의 전체 요소 : ', array2, sep='\\n')"
   ]
  },
  {
   "cell_type": "code",
   "execution_count": 56,
   "id": "7752c4b2-c4b0-4895-919c-b17a8ab723f5",
   "metadata": {},
   "outputs": [
    {
     "name": "stdout",
     "output_type": "stream",
     "text": [
      "depth가 1인 배열 : \n",
      "[[0 1 2 3]\n",
      " [4 5 6 7]]\n",
      "-----------------\n",
      "depth가 2인 배열 : \n",
      "[[ 8  9 10 11]\n",
      " [12 13 14 15]]\n",
      "-----------------\n",
      "depth가 3인 배열 : \n",
      "[[16 17 18 19]\n",
      " [20 21 22 23]]\n",
      "-----------------\n",
      "depth가 4인 배열 : \n",
      "[[24 25 26 27]\n",
      " [28 29 30 31]]\n",
      "-----------------\n"
     ]
    }
   ],
   "source": [
    "print('depth가 1인 배열 : ', array2[0,:,:], sep='\\n')\n",
    "print('-----------------')\n",
    "print('depth가 2인 배열 : ', array2[1,:,:], sep='\\n')\n",
    "print('-----------------')\n",
    "print('depth가 3인 배열 : ', array2[2,:,:], sep='\\n')\n",
    "print('-----------------')\n",
    "print('depth가 4인 배열 : ', array2[3,:,:], sep='\\n')\n",
    "print('-----------------')"
   ]
  },
  {
   "cell_type": "code",
   "execution_count": 58,
   "id": "139c0df9-373f-4218-af78-c127a6a29006",
   "metadata": {},
   "outputs": [
    {
     "name": "stdout",
     "output_type": "stream",
     "text": [
      "행(row)이 1인 배열 : \n",
      "[[ 0  1  2  3]\n",
      " [ 8  9 10 11]\n",
      " [16 17 18 19]\n",
      " [24 25 26 27]]\n",
      "-----------------\n",
      "행(row)이 2인 배열 : \n",
      "[[ 4  5  6  7]\n",
      " [12 13 14 15]\n",
      " [20 21 22 23]\n",
      " [28 29 30 31]]\n",
      "-----------------\n"
     ]
    }
   ],
   "source": [
    "print('행(row)이 1인 배열 : ', array2[:,0,:], sep='\\n')\n",
    "print('-----------------')\n",
    "print('행(row)이 2인 배열 : ', array2[:,1,:], sep='\\n')\n",
    "print('-----------------')"
   ]
  },
  {
   "cell_type": "code",
   "execution_count": 60,
   "id": "ef51611a-d53a-4745-a5c7-d5af27e0b611",
   "metadata": {},
   "outputs": [
    {
     "name": "stdout",
     "output_type": "stream",
     "text": [
      "array1의 전체 요소 : \n",
      "[ 1  2  3  4  5  6  7  8  9 10 11 12]\n",
      "--------------------\n",
      "array1의 4~7번째 요소를 Slicing한 배열(array2)\n",
      "[4 5 6 7]\n",
      "--------------------\n",
      "<array2의 1번째 요소를 10배 곱해준 값으로 변경>\n",
      "1번째 요소 변경 후의 array2 :  [40  5  6  7]\n",
      "array1의 전체 요소 : \n",
      "[ 1  2  3 40  5  6  7  8  9 10 11 12]\n"
     ]
    }
   ],
   "source": [
    "array1 = np.array([1,2,3,4,5,6,7,8,9,10,11,12])\n",
    "print('array1의 전체 요소 : ', array1, sep='\\n')\n",
    "print('--------------------')\n",
    "\n",
    "array2 = array1[3:7]\n",
    "print('array1의 4~7번째 요소를 Slicing한 배열(array2)', array2, sep='\\n')\n",
    "print('--------------------')\n",
    "\n",
    "array2[0] = array2[0]*10 # 요소에 10을 곱함.\n",
    "print('<array2의 1번째 요소를 10배 곱해준 값으로 변경>')\n",
    "print('1번째 요소 변경 후의 array2 : ', array2)\n",
    "print('array1의 전체 요소 : ', array1, sep='\\n')"
   ]
  },
  {
   "cell_type": "code",
   "execution_count": 62,
   "id": "55b94138-0aeb-4a30-a4eb-8a9ed662aa37",
   "metadata": {},
   "outputs": [
    {
     "name": "stdout",
     "output_type": "stream",
     "text": [
      "배열의 전체 요소 : \n",
      "[[ 1  2  3  4]\n",
      " [ 5  6  7  8]\n",
      " [ 9 10 11 12]\n",
      " [13  4 15 16]]\n",
      "----------------------\n",
      "배열의 행 합산 : \n",
      "[28 22 36 40]\n",
      "----------------------\n",
      "배열의 열 합산 : \n",
      "[10 26 42 48]\n",
      "----------------------\n"
     ]
    }
   ],
   "source": [
    "array1 = np.array([[1,2,3,4],[5,6,7,8],[9,10,11,12],[13,4,15,16]])\n",
    "print('배열의 전체 요소 : ', array1, sep='\\n')\n",
    "print('----------------------')\n",
    "print('배열의 행 합산 : ', np.sum(array1, axis=0), sep='\\n') # axis=0 은 세로로 다 더함 \n",
    "print('----------------------')\n",
    "print('배열의 열 합산 : ', np.sum(array1, axis=1), sep='\\n') # axis=1 은 가로로 다 더함\n",
    "print('----------------------')"
   ]
  },
  {
   "cell_type": "code",
   "execution_count": 64,
   "id": "8dbb4e53-1cd5-4574-b99d-d8bf56405cf1",
   "metadata": {},
   "outputs": [
    {
     "name": "stdout",
     "output_type": "stream",
     "text": [
      "배열(array2)의 depth 합산 : \n",
      "[[48 52 56 60]\n",
      " [64 68 72 76]]\n",
      "----------------------\n",
      "배열의 행 합산 : \n",
      "[[ 4  6  8 10]\n",
      " [20 22 24 26]\n",
      " [36 38 40 42]\n",
      " [52 54 56 58]]\n",
      "----------------------\n",
      "배열의 열 합산 : \n",
      "[[  6  22]\n",
      " [ 38  54]\n",
      " [ 70  86]\n",
      " [102 118]]\n",
      "----------------------\n"
     ]
    }
   ],
   "source": [
    "array1 = np.arange(0, 32)\n",
    "array2 = array1.reshape([4,2,4])\n",
    "print('배열(array2)의 depth 합산 : ', np.sum(array2, axis=0), sep='\\n') \n",
    "# 차원이 높아지면 0부터 가장 바깥 차원으로 둠 (0=깊이, 1=행, 2=열)\n",
    "print('----------------------')\n",
    "print('배열의 행 합산 : ', np.sum(array2, axis=1), sep='\\n')\n",
    "print('----------------------')\n",
    "print('배열의 열 합산 : ', np.sum(array2, axis=2), sep='\\n')\n",
    "print('----------------------')"
   ]
  },
  {
   "cell_type": "code",
   "execution_count": 91,
   "id": "e2651fa1-2132-4967-9d9d-bc86ae15daad",
   "metadata": {},
   "outputs": [
    {
     "name": "stdout",
     "output_type": "stream",
     "text": [
      "[[[ 1  2  3]\n",
      "  [ 4  5  6]\n",
      "  [ 7  8  9]]\n",
      "\n",
      " [[10 11 12]\n",
      "  [13 14 15]\n",
      "  [16 17 18]]]\n",
      "\n",
      "[[[ 2  3  4]\n",
      "  [ 5  6  7]\n",
      "  [ 8  9 10]]\n",
      "\n",
      " [[12 13 14]\n",
      "  [15 16 17]\n",
      "  [18 19 20]]]\n"
     ]
    }
   ],
   "source": [
    "array_ = np.arange(1,19) #1~9까지 숫자\n",
    "arrays = array_.reshape([2,3,3]) \n",
    "print(arrays,sep='\\n')\n",
    "print('')\n",
    "for depth in range(len(arrays)):\n",
    "    arrays[depth,:,:] = arrays[depth]+(depth+1)\n",
    "print(arrays,sep='\\n')"
   ]
  },
  {
   "cell_type": "code",
   "execution_count": null,
   "id": "1714a954-e490-46ac-b951-bca7552e3b10",
   "metadata": {},
   "outputs": [],
   "source": []
  }
 ],
 "metadata": {
  "kernelspec": {
   "display_name": "Python [conda env:base] *",
   "language": "python",
   "name": "conda-base-py"
  },
  "language_info": {
   "codemirror_mode": {
    "name": "ipython",
    "version": 3
   },
   "file_extension": ".py",
   "mimetype": "text/x-python",
   "name": "python",
   "nbconvert_exporter": "python",
   "pygments_lexer": "ipython3",
   "version": "3.12.7"
  }
 },
 "nbformat": 4,
 "nbformat_minor": 5
}
