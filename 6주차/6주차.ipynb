{
 "cells": [
  {
   "cell_type": "code",
   "execution_count": 1,
   "id": "0b2ebf2e-5e53-4729-8409-1c6712eca8e5",
   "metadata": {},
   "outputs": [
    {
     "name": "stdout",
     "output_type": "stream",
     "text": [
      "x = 5에서 수치 미분 결과: 0.1999999999990898\n",
      "x = 10에서 수치 미분 결과: 0.2999999999986347\n"
     ]
    }
   ],
   "source": [
    "def numerical_diff(f, x):\n",
    "    h=1e-4\n",
    "    return (f(x+h)-f(x-h))/(2*h)\n",
    "\n",
    "def function_1(x):\n",
    "    return 0.01*x**2 + 0.1*x\n",
    "\n",
    "print('x = 5에서 수치 미분 결과:', numerical_diff(function_1, 5))\n",
    "print('x = 10에서 수치 미분 결과:', numerical_diff(function_1, 10))"
   ]
  },
  {
   "cell_type": "code",
   "execution_count": 2,
   "id": "cdad2fa4-57a5-40b2-8752-d81a9c2ae0b0",
   "metadata": {},
   "outputs": [
    {
     "name": "stdout",
     "output_type": "stream",
     "text": [
      "x0=3, x1=4에서의 x0에 대한 편비문 결과 :  516.0000003616005\n"
     ]
    }
   ],
   "source": [
    "def partial_diff(f, x):\n",
    "    h = 1e-4\n",
    "    return (f(x+h)-f(x-h))/(2*h)\n",
    "\n",
    "def function_1(x0):\n",
    "    x1 = 4\n",
    "    return 3*(x0**4) + 2*(x0**2)*(x1**2) + 7*(x1**4)\n",
    "\n",
    "print('x0=3, x1=4에서의 x0에 대한 편비문 결과 : ', partial_diff(function_1, 3))\n"
   ]
  },
  {
   "cell_type": "code",
   "execution_count": 3,
   "id": "3254f793-4637-49f9-92b8-4823f735ee0e",
   "metadata": {},
   "outputs": [
    {
     "name": "stdout",
     "output_type": "stream",
     "text": [
      "x0=3, x1=4에서의 x0에 대한 편비문 결과 :  1936.0000011192824\n"
     ]
    }
   ],
   "source": [
    "def partial_diff(f, x):\n",
    "    h = 1e-4\n",
    "    return (f(x+h)-f(x-h))/(2*h)\n",
    "\n",
    "def function_2(x1):\n",
    "    x0 = 3\n",
    "    return 3*(x0**4) + 2*(x0**2)*(x1**2) + 7*(x1**4)\n",
    "\n",
    "print('x0=3, x1=4에서의 x0에 대한 편비문 결과 : ', partial_diff(function_2, 4))"
   ]
  },
  {
   "cell_type": "code",
   "execution_count": 4,
   "id": "decae5e1-3fb7-4d66-900d-960d3d81d047",
   "metadata": {},
   "outputs": [
    {
     "name": "stdout",
     "output_type": "stream",
     "text": [
      "x0=3, x1=4에서의 x0에 대한 편비문 결과 :  [ 516.00000036 1936.00000112]\n"
     ]
    }
   ],
   "source": [
    "import numpy as np\n",
    "def numerical_gradient(f, x):\n",
    "    h = 1e-4\n",
    "    grad = np.zeros_like(x)\n",
    "\n",
    "    for idx in range(x.size):\n",
    "        tmp_val = x[idx]\n",
    "        x[idx] = tmp_val + h\n",
    "        fxh1 = f(x)\n",
    "\n",
    "        x[idx] = tmp_val - h\n",
    "        fxh2 = f(x)\n",
    "\n",
    "        grad[idx] = (fxh1 - fxh2) / (2*h)\n",
    "        x[idx] = tmp_val\n",
    "    return grad\n",
    "\n",
    "def function_2(x):\n",
    "    return 3*(x[0]**4) + 2*(x[0]**2)*(x[1]**2) + 7*(x[1]**4)\n",
    "\n",
    "print('x0=3, x1=4에서의 x0에 대한 편비문 결과 : ', numerical_gradient(function_2, np.array([3.0, 4.0])))"
   ]
  },
  {
   "cell_type": "code",
   "execution_count": 5,
   "id": "5277488f-de12-405a-a65e-3736c9a77f5b",
   "metadata": {},
   "outputs": [
    {
     "name": "stdout",
     "output_type": "stream",
     "text": [
      "Learning rate가 10.0일 때 경사하강법을 적용한 최종 W 위치 :  [-9.37416128e+13  2.05109945e+15]\n",
      "Learning rate가 0.001일 때 경사하강법을 적용한 최종 W 위치 :  [-0.58538933  0.35407636]\n",
      "Learning rate가 0.00000001일 때 경사하강법을 적용한 최종 W 위치 :  [-2.99948419  3.99806535]\n"
     ]
    }
   ],
   "source": [
    "#coding: utf-8\n",
    "import numpy as np\n",
    "import matplotlib.pylab as plt\n",
    "\n",
    "def gradient_descent(f, init_w, learning_rate, step_num):\n",
    "    w = init_w\n",
    "\n",
    "    for i in range(step_num):\n",
    "        grad = numerical_gradient(f, w)\n",
    "        w -= learning_rate * grad\n",
    "\n",
    "    return w\n",
    "\n",
    "def function_2(x):\n",
    "    return 3*(x[0]**4) + 2*(x[0]**2)*(x[1]**2) + 7*(x[1]**4)\n",
    "\n",
    "print('Learning rate가 10.0일 때 경사하강법을 적용한 최종 W 위치 : ',\n",
    "     gradient_descent(function_2, np.array([-3.0, 4.0]), 10.0, 100))\n",
    "print('Learning rate가 0.001일 때 경사하강법을 적용한 최종 W 위치 : ',\n",
    "     gradient_descent(function_2, np.array([-3.0, 4.0]), 0.001, 100))\n",
    "print('Learning rate가 0.00000001일 때 경사하강법을 적용한 최종 W 위치 : ',\n",
    "     gradient_descent(function_2, np.array([-3.0, 4.0]), 1e-8, 100))"
   ]
  },
  {
   "cell_type": "code",
   "execution_count": 6,
   "id": "08605352-7c48-4f8b-8ebe-2848fbeec666",
   "metadata": {},
   "outputs": [
    {
     "name": "stdout",
     "output_type": "stream",
     "text": [
      "예측이 y1일 때 MSE : 0.0195\n",
      "예측이 y1일 때 MSE : 0.1295\n"
     ]
    }
   ],
   "source": [
    "import numpy as np\n",
    "def mean_squared_error(y, t):\n",
    "    return np.sum((y-t)**2)/len(y)\n",
    "\n",
    "t = [0,0,1,0,0,0,0,0,0,0]\n",
    "y1 = [0.1, 0.0, 0.6, 0.0, 0.05, 0.1, 0.05, 0.1, 0.0, 0.0]\n",
    "y2 = [0.1, 0.1, 0.05, 0.0, 0.05, 0.1, 0.0, 0.6, 0.0, 0.0]\n",
    "\n",
    "print('예측이 y1일 때 MSE :', round(mean_squared_error(np.array(y1), np.array(t)), 4))\n",
    "print('예측이 y1일 때 MSE :', round(mean_squared_error(np.array(y2), np.array(t)), 4))"
   ]
  },
  {
   "cell_type": "code",
   "execution_count": 7,
   "id": "06bda4a4-3851-4576-8251-b9c69fb626f3",
   "metadata": {},
   "outputs": [
    {
     "name": "stdout",
     "output_type": "stream",
     "text": [
      "예측이 y1일 때 MSE : 0.5108\n",
      "예측이 y1일 때 MSE : 2.9957\n"
     ]
    }
   ],
   "source": [
    "def cross_entropy_error(y, t):\n",
    "    delta = 1e-7\n",
    "    return -np.sum(t * np.log(y + delta))\n",
    "\n",
    "t = [0,0,1,0,0,0,0,0,0,0]\n",
    "y1 = [0.1, 0.0, 0.6, 0.0, 0.05, 0.1, 0.05, 0.1, 0.0, 0.0]\n",
    "y2 = [0.1, 0.1, 0.05, 0.0, 0.05, 0.1, 0.0, 0.6, 0.0, 0.0]\n",
    "\n",
    "print('예측이 y1일 때 MSE :', round(cross_entropy_error(np.array(y1), np.array(t)), 4))\n",
    "print('예측이 y1일 때 MSE :', round(cross_entropy_error(np.array(y2), np.array(t)), 4))"
   ]
  },
  {
   "cell_type": "code",
   "execution_count": 8,
   "id": "7553692a-2b70-4e51-9344-99a99f69f3da",
   "metadata": {},
   "outputs": [],
   "source": [
    "def cross_entropy_error(y ,t):\n",
    "    if y.ndim == 1:\n",
    "        t = t.reshape(1, t.size)\n",
    "        y = y.reshape(1, y.size)\n",
    "\n",
    "    batch_size = y.shape[0]\n",
    "    return -np.sum(t*np.log(y)) / batch_size"
   ]
  },
  {
   "cell_type": "code",
   "execution_count": 9,
   "id": "b470a801-b3bb-4101-aac5-341e3c4f74c6",
   "metadata": {},
   "outputs": [
    {
     "name": "stdout",
     "output_type": "stream",
     "text": [
      "x_train 형상 : (60000, 784)\n",
      "t_train 형상 : (60000, 10)\n",
      "train data 크기에서 Mini-Batch 수만큼 랜덤하게 추출한 값 : \n",
      "[59301 53186 57438 26842 48501 22214 34820 39193  8500 21122]\n",
      "Mini-Batch 처리된 x_train :\n",
      "[[0. 0. 0. ... 0. 0. 0.]\n",
      " [0. 0. 0. ... 0. 0. 0.]\n",
      " [0. 0. 0. ... 0. 0. 0.]\n",
      " ...\n",
      " [0. 0. 0. ... 0. 0. 0.]\n",
      " [0. 0. 0. ... 0. 0. 0.]\n",
      " [0. 0. 0. ... 0. 0. 0.]]\n",
      "Mini-Batch 처리된 t_train :\n",
      "[[0. 0. 0. 0. 0. 1. 0. 0. 0. 0.]\n",
      " [0. 0. 0. 0. 0. 0. 0. 0. 1. 0.]\n",
      " [0. 0. 0. 0. 0. 0. 1. 0. 0. 0.]\n",
      " [0. 0. 0. 0. 0. 1. 0. 0. 0. 0.]\n",
      " [0. 0. 0. 0. 0. 0. 0. 1. 0. 0.]\n",
      " [0. 1. 0. 0. 0. 0. 0. 0. 0. 0.]\n",
      " [0. 0. 0. 0. 0. 0. 0. 0. 1. 0.]\n",
      " [0. 1. 0. 0. 0. 0. 0. 0. 0. 0.]\n",
      " [0. 0. 0. 0. 0. 0. 1. 0. 0. 0.]\n",
      " [0. 0. 0. 0. 0. 0. 1. 0. 0. 0.]]\n"
     ]
    }
   ],
   "source": [
    "import numpy as np\n",
    "from dataset.mnist import load_mnist\n",
    "\n",
    "(x_train, t_train), (x_test, t_test) = load_mnist(normalize=True, one_hot_label=True)\n",
    "\n",
    "print('x_train 형상 :', x_train.shape)\n",
    "print('t_train 형상 :', t_train.shape)\n",
    "\n",
    "train_size = x_train.shape[0]\n",
    "batch_size = 10\n",
    "batch_mask = np.random.choice(train_size, batch_size)\n",
    "x_batch = x_train[batch_mask]\n",
    "t_batch = t_train[batch_mask]\n",
    "\n",
    "print('train data 크기에서 Mini-Batch 수만큼 랜덤하게 추출한 값 : ', batch_mask, sep='\\n')\n",
    "print('Mini-Batch 처리된 x_train :', x_batch, sep='\\n')\n",
    "print('Mini-Batch 처리된 t_train :', t_batch, sep='\\n')"
   ]
  },
  {
   "cell_type": "code",
   "execution_count": 10,
   "id": "b60281e0-0db1-4f92-abba-e6a1a80ccceb",
   "metadata": {},
   "outputs": [],
   "source": [
    "def sigmoid(x):\n",
    "    return 1/(1+np.exp(-x))\n",
    "\n",
    "class Sigmoid:\n",
    "    def __init__(self):\n",
    "        self.out = None\n",
    "\n",
    "    def forward(self, x):\n",
    "        out = sigmoid(x)\n",
    "        self.out = out\n",
    "        return out\n",
    "    \n",
    "    def backward(self, dout):\n",
    "        dx = dout*(1.0 - self.out) * self.out\n",
    "        return dx"
   ]
  },
  {
   "cell_type": "code",
   "execution_count": 11,
   "id": "b092d6dd-a163-4bfb-a6ed-cc1014b3ca62",
   "metadata": {},
   "outputs": [],
   "source": [
    "class SoftmaxWithLoss:\n",
    "    def __init__(self):\n",
    "        self.loss = None\n",
    "        self.y = None\n",
    "        self.t = None\n",
    "\n",
    "    def forward(self, x, t):\n",
    "        self.t = t\n",
    "        self.y = softmax(x)\n",
    "        self.loss = cross_entropy_error(self.y, self.t)\n",
    "\n",
    "        return self.loss\n",
    "\n",
    "    def backward(self, dout=1):\n",
    "        batch_size = self.t.shape[0]\n",
    "        dx = (self.y - self.t) / batch_size\n",
    "\n",
    "        return dx"
   ]
  },
  {
   "cell_type": "code",
   "execution_count": 12,
   "id": "b4fefb9e-f7ea-4ec7-aa86-0ce6054c0a2f",
   "metadata": {},
   "outputs": [],
   "source": [
    "def softmax(x):\n",
    "        x = x - np.max(x, axis=-1, keepdims=True)\n",
    "        return np.exp(x) / np.sum(np.exp(x), axis=-1, keepdims=True)\n",
    "\n",
    "def cross_entropy_error(y, t):\n",
    "    if y.ndim == 1:\n",
    "        t =t.reshape(1, t.size)\n",
    "        y =y.reshape(1, y.size)\n",
    "\n",
    "    batch_size = y.shape[0]\n",
    "    return -np.sum(t*np.log(y))/batch_size"
   ]
  },
  {
   "cell_type": "code",
   "execution_count": 13,
   "id": "d35160db-7a09-4aaf-9ac8-b9a35d89ddc5",
   "metadata": {},
   "outputs": [],
   "source": [
    "class Affine:\n",
    "    def __init__(self, W, b):\n",
    "        self.W = W\n",
    "        self.b = b\n",
    "\n",
    "        self.x = None\n",
    "        self.original_x_shape = None\n",
    "\n",
    "        self.dW = None\n",
    "        self.db = None\n",
    "\n",
    "    def forward(self, x):\n",
    "        self.original_x_shape = x.shape\n",
    "        x = x.reshape(x.shape[0], -1)\n",
    "        self.x = x\n",
    "\n",
    "        out = np.dot(self.x, self.W) + self.b\n",
    "\n",
    "        return out\n",
    "\n",
    "    def backward(self, dout):\n",
    "        dx = np.dot(dout, self.W.T)\n",
    "        self.dW = np.dot(self.x.T, dout)\n",
    "        self.db = np.sum(dout, axis = 0)\n",
    "\n",
    "        dx = dx.reshape(*self.original_x_shape)\n",
    "        return dx"
   ]
  },
  {
   "cell_type": "code",
   "execution_count": 16,
   "id": "91a48276-0007-439b-89ac-7ddd02d3021a",
   "metadata": {},
   "outputs": [],
   "source": [
    "class ThreeLayerNet:\n",
    "    def __init__(self, input_size, hidden_size1, hidden_size2, output_size, weight_init_std=0.01):\n",
    "        self.params = {}\n",
    "        self.params['W1'] = weight_init_std * np.random.randn(input_size, hidden_size1)\n",
    "        self.params['b1'] = np.zeros(hidden_size1)\n",
    "        self.params['W2'] = weight_init_std * np.random.randn(hidden_size1, hidden_size2)\n",
    "        self.params['b2'] = np.zeros(hidden_size2)\n",
    "        self.params['W3'] = weight_init_std * np.random.randn(hidden_size2, output_size)\n",
    "        self.params['b3'] = np.zeros(output_size)\n",
    "\n",
    "        self.layers = OrderedDict()\n",
    "        self.layers['Affine1'] = Affine(self.params['W1'], self.params['b1'])\n",
    "        self.layers['Sigmoid1'] = Sigmoid()\n",
    "        self.layers['Affine2'] = Affine(self.params['W2'], self.params['b2'])\n",
    "        self.layers['Sigmoid2'] = Sigmoid()\n",
    "        self.layers['Affine3'] = Affine(self.params['W3'], self.params['b3'])\n",
    "\n",
    "        self.lastLayer = SoftmaxWithLoss()\n",
    "\n",
    "    def predict(self, x):\n",
    "        for layer in self.layers.values():\n",
    "            x = layer.forward(x)\n",
    "        return x\n",
    "\n",
    "    def loss(self, x, t):\n",
    "        y = self.predict(x)\n",
    "        return self.lastLayer.forward(y, t)\n",
    "\n",
    "    def accuracy(self, x, t):\n",
    "        y = self.predict(x)\n",
    "        y = np.argmax(y, axis=1)\n",
    "        if t.ndim != 1:\n",
    "            t = np.argmax(t, axis=1)\n",
    "\n",
    "        accuracy = np.sum(y == t) / float(x.shape[0])\n",
    "        return accuracy\n",
    "\n",
    "    def numerical_gradient(self, x, t):\n",
    "        loss_W = lambda W: self.loss(x, t)\n",
    "        grads = {}\n",
    "        grads['W1'] = numerical_gradient(loss_W, self.params['W1'])\n",
    "        grads['b1'] = numerical_gradient(loss_W, self.params['b1'])\n",
    "        grads['W2'] = numerical_gradient(loss_W, self.params['W2'])\n",
    "        grads['b2'] = numerical_gradient(loss_W, self.params['b2'])\n",
    "        grads['W3'] = numerical_gradient(loss_W, self.params['W3'])\n",
    "        grads['b3'] = numerical_gradient(loss_W, self.params['b3'])\n",
    "        return grads\n",
    "\n",
    "    def gradient(self, x, t):\n",
    "        self.loss(x, t)\n",
    "\n",
    "        dout = 1\n",
    "        dout = self.lastLayer.backward(dout)\n",
    "\n",
    "        layers = list(self.layers.values())\n",
    "        layers.reverse()\n",
    "        for layer in layers:\n",
    "            dout = layer.backward(dout)\n",
    "\n",
    "        grads = {}\n",
    "        grads['W1'], grads['b1'] = self.layers['Affine1'].dW, self.layers['Affine1'].db\n",
    "        grads['W2'], grads['b2'] = self.layers['Affine2'].dW, self.layers['Affine2'].db\n",
    "        grads['W3'], grads['b3'] = self.layers['Affine3'].dW, self.layers['Affine3'].db\n",
    "        return grads\n"
   ]
  },
  {
   "cell_type": "code",
   "execution_count": 18,
   "id": "5cf7e34c-0597-42cd-be4a-272a0cc76659",
   "metadata": {},
   "outputs": [
    {
     "name": "stdout",
     "output_type": "stream",
     "text": [
      "Epoch : 1 => train 정확도 : 11.24 % / test 정확도 : 11.35 % / loss : 2.27\n",
      "Epoch : 2 => train 정확도 : 9.86 % / test 정확도 : 9.58 % / loss : 2.2723\n",
      "Epoch : 3 => train 정확도 : 11.27 % / test 정확도 : 11.38 % / loss : 2.2809\n",
      "Epoch : 4 => train 정확도 : 21.14 % / test 정확도 : 21.47 % / loss : 2.0736\n",
      "Epoch : 5 => train 정확도 : 38.25 % / test 정확도 : 38.61 % / loss : 1.7426\n",
      "Epoch : 6 => train 정확도 : 64.39 % / test 정확도 : 64.93 % / loss : 1.1161\n",
      "Epoch : 7 => train 정확도 : 81.81 % / test 정확도 : 81.99 % / loss : 0.6773\n",
      "Epoch : 8 => train 정확도 : 87.02 % / test 정확도 : 87.55 % / loss : 0.3342\n",
      "Epoch : 9 => train 정확도 : 89.66 % / test 정확도 : 89.82 % / loss : 0.4683\n",
      "Epoch : 10 => train 정확도 : 91.41 % / test 정확도 : 91.26 % / loss : 0.1875\n",
      "Epoch : 11 => train 정확도 : 92.62 % / test 정확도 : 92.59 % / loss : 0.1748\n",
      "Epoch : 12 => train 정확도 : 93.4 % / test 정확도 : 93.39 % / loss : 0.1486\n",
      "Epoch : 13 => train 정확도 : 94.2 % / test 정확도 : 94.16 % / loss : 0.1526\n",
      "Epoch : 14 => train 정확도 : 94.62 % / test 정확도 : 94.32 % / loss : 0.1145\n",
      "Epoch : 15 => train 정확도 : 95.14 % / test 정확도 : 95.08 % / loss : 0.1461\n",
      "Epoch : 16 => train 정확도 : 95.4 % / test 정확도 : 95.14 % / loss : 0.1771\n",
      "Epoch : 17 => train 정확도 : 95.69 % / test 정확도 : 95.28 % / loss : 0.0906\n",
      "Epoch : 18 => train 정확도 : 95.98 % / test 정확도 : 95.59 % / loss : 0.0491\n",
      "Epoch : 19 => train 정확도 : 96.29 % / test 정확도 : 95.65 % / loss : 0.1373\n",
      "Epoch : 20 => train 정확도 : 96.52 % / test 정확도 : 95.7 % / loss : 0.1325\n",
      "Epoch : 21 => train 정확도 : 96.68 % / test 정확도 : 95.86 % / loss : 0.0444\n",
      "Epoch : 22 => train 정확도 : 96.77 % / test 정확도 : 95.94 % / loss : 0.1746\n",
      "Epoch : 23 => train 정확도 : 97.06 % / test 정확도 : 96.05 % / loss : 0.0366\n",
      "Epoch : 24 => train 정확도 : 97.16 % / test 정확도 : 96.1 % / loss : 0.0632\n",
      "Epoch : 25 => train 정확도 : 97.14 % / test 정확도 : 96.12 % / loss : 0.0969\n",
      "Epoch : 26 => train 정확도 : 97.34 % / test 정확도 : 96.33 % / loss : 0.2964\n",
      "Epoch : 27 => train 정확도 : 97.46 % / test 정확도 : 96.34 % / loss : 0.0221\n",
      "Epoch : 28 => train 정확도 : 97.49 % / test 정확도 : 96.38 % / loss : 0.0988\n",
      "Epoch : 29 => train 정확도 : 97.53 % / test 정확도 : 96.45 % / loss : 0.1021\n",
      "Epoch : 30 => train 정확도 : 97.82 % / test 정확도 : 96.52 % / loss : 0.087\n",
      "Epoch : 31 => train 정확도 : 97.85 % / test 정확도 : 96.55 % / loss : 0.0284\n",
      "Epoch : 32 => train 정확도 : 97.92 % / test 정확도 : 96.66 % / loss : 0.0231\n",
      "Epoch : 33 => train 정확도 : 97.85 % / test 정확도 : 96.49 % / loss : 0.0317\n",
      "Epoch : 34 => train 정확도 : 98.04 % / test 정확도 : 96.71 % / loss : 0.0195\n",
      "Epoch : 35 => train 정확도 : 98.11 % / test 정확도 : 96.57 % / loss : 0.0491\n",
      "Epoch : 36 => train 정확도 : 98.23 % / test 정확도 : 96.78 % / loss : 0.0495\n",
      "Epoch : 37 => train 정확도 : 98.24 % / test 정확도 : 96.77 % / loss : 0.0367\n",
      "Epoch : 38 => train 정확도 : 98.32 % / test 정확도 : 96.77 % / loss : 0.0179\n",
      "Epoch : 39 => train 정확도 : 98.38 % / test 정확도 : 96.8 % / loss : 0.0783\n",
      "Epoch : 40 => train 정확도 : 98.45 % / test 정확도 : 96.83 % / loss : 0.0154\n",
      "Epoch : 41 => train 정확도 : 98.38 % / test 정확도 : 96.78 % / loss : 0.1034\n",
      "Epoch : 42 => train 정확도 : 98.38 % / test 정확도 : 96.85 % / loss : 0.0712\n",
      "종료\n"
     ]
    }
   ],
   "source": [
    "import numpy as np\n",
    "from dataset.mnist import load_mnist\n",
    "from collections import OrderedDict\n",
    "\n",
    "(x_train, t_train), (x_test, t_test) = load_mnist(normalize=True, one_hot_label=True)\n",
    "\n",
    "network = ThreeLayerNet(input_size=784, hidden_size1=50, hidden_size2=100, output_size=10)\n",
    "\n",
    "iters_num = 50000\n",
    "train_size = x_train.shape[0]\n",
    "batch_size = 50\n",
    "learning_rate = 0.1\n",
    "\n",
    "train_loss_list = []\n",
    "train_loss_list2 = []\n",
    "train_acc_list = []\n",
    "test_acc_list = []\n",
    "epoch = 0\n",
    "\n",
    "iter_per_epoch = max(train_size / batch_size, 1)\n",
    "\n",
    "for i in range(iters_num):\n",
    "    batch_mask = np.random.choice(train_size, batch_size)\n",
    "    x_batch = x_train[batch_mask]\n",
    "    t_batch = t_train[batch_mask]\n",
    "    \n",
    "    grad = network.gradient(x_batch, t_batch)\n",
    "\n",
    "    for key in ('W1', 'b1', 'W2', 'b2', 'W3', 'b3'):\n",
    "        network.params[key] -= learning_rate * grad[key]\n",
    "\n",
    "    loss = network.loss(x_batch, t_batch)\n",
    "    train_loss_list.append(loss)\n",
    "\n",
    "    if i % iter_per_epoch == 0:\n",
    "        epoch += 1\n",
    "        train_acc = network.accuracy(x_train, t_train)\n",
    "        test_acc = network.accuracy(x_test, t_test)\n",
    "        train_acc_list.append(train_acc)\n",
    "        test_acc_list.append(test_acc)\n",
    "        train_loss_list2.append(loss)\n",
    "        print('Epoch :', epoch, '=> train 정확도 :', round(train_acc*100, 2),\n",
    "              '% / test 정확도 :', round(test_acc*100, 2),\n",
    "              '% / loss :', round(loss, 4))\n",
    "\n",
    "print('종료')"
   ]
  },
  {
   "cell_type": "code",
   "execution_count": 20,
   "id": "106aee9a-a51c-4b92-b138-81875dc42fc0",
   "metadata": {},
   "outputs": [
    {
     "data": {
      "image/png": "[encoded data removed]",
      "text/plain": [
       "<Figure size 1500x900 with 1 Axes>"
      ]
     },
     "metadata": {},
     "output_type": "display_data"
    }
   ],
   "source": [
    "import matplotlib.pyplot as plt\n",
    "\n",
    "plt.figure(figsize=(15, 9))\n",
    "plt. plot(train_loss_list2)\n",
    "plt.title('model loss')\n",
    "plt.ylabel('loss')\n",
    "plt.ylabel('epoch')\n",
    "plt.legend(['loss'], loc='upper left')\n",
    "plt.show()"
   ]
  },
  {
   "cell_type": "code",
   "execution_count": 22,
   "id": "53325ddd-3556-4f8a-920b-b512c7ef80fb",
   "metadata": {},
   "outputs": [
    {
     "data": {
      "image/png": "[encoded data removed]",
      "text/plain": [
       "<Figure size 1500x900 with 1 Axes>"
      ]
     },
     "metadata": {},
     "output_type": "display_data"
    }
   ],
   "source": [
    "import matplotlib.pyplot as plt\n",
    "\n",
    "plt.figure(figsize=(15, 9))\n",
    "plt.plot(train_acc_list)\n",
    "plt.plot(test_acc_list)\n",
    "plt.title('model accuracy')\n",
    "plt.ylabel('accuracy')\n",
    "plt.xlabel('epoch')\n",
    "plt.legend(['train', 'test'], loc='upper left')\n",
    "plt.show()"
   ]
  },
  {
   "cell_type": "code",
   "execution_count": null,
   "id": "bc302081-c1f2-42b8-ac1e-1a2345604c0f",
   "metadata": {},
   "outputs": [],
   "source": []
  }
 ],
 "metadata": {
  "kernelspec": {
   "display_name": "Python [conda env:base] *",
   "language": "python",
   "name": "conda-base-py"
  },
  "language_info": {
   "codemirror_mode": {
    "name": "ipython",
    "version": 3
   },
   "file_extension": ".py",
   "mimetype": "text/x-python",
   "name": "python",
   "nbconvert_exporter": "python",
   "pygments_lexer": "ipython3",
   "version": "3.12.7"
  }
 },
 "nbformat": 4,
 "nbformat_minor": 5
}
