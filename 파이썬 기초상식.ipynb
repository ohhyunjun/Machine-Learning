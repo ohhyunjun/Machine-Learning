{
 "cells": [
  {
   "cell_type": "markdown",
   "id": "13a7bb57-860a-4676-b89d-d80d30546181",
   "metadata": {},
   "source": [
    "### 문자열\n",
    "##### a.lower(),   a.upper(),   a[0].isupper() = true/false,   len(a)\n",
    "##### a.replace(\"바뀌는 글\", \"들어가는 말\")\n",
    "##### a.index(\"n\", 숫자) = n이 몇번 인덱스에 있는지 혹은 숫자 부터 n번이 어디에 있는지, 없을경우 오류\n",
    "##### a.find(\"n\") = n이 있으면 숫자 없으면 -1\n",
    "##### a.count(\"n\") = n이 총 몇번 나오는지\n",
    "\n",
    "##### print(\"나는 %d살이고 친구는 %d살 입니다.\" % (20, 30))\n",
    "##### print(\"나는 {}살이고 친구는 {}살 입니다.\".format(20, 30))"
   ]
  },
  {
   "cell_type": "markdown",
   "id": "f92c07b2-c4e1-4dbe-b1f6-5bc3848fcb4f",
   "metadata": {},
   "source": [
    "### 리스트\n",
    "##### a.index(\"바나나\") = 바나나의 인덱스 번호\n",
    "##### a.append(\"사과\") = 맨 뒤 인덱스에 사과를 추가\n",
    "##### a.insert(몇번째에 넣을지 숫자 기입, \"수박\")\n",
    "##### a.pop() = 뒤에서 부터 하나씩 꺼냄\n",
    "##### a.count(\"수박\") = 수박이 몇개 있는지\n",
    "##### a.sort() = 순서 정렬, \\t a.reverse() = 역순으로 정렬\n",
    "##### a.clear() = 리스트의 모든 값 지움\n",
    "##### a1.extend(a) = a1에 a를 추가"
   ]
  },
  {
   "cell_type": "markdown",
   "id": "42047b8e-43d3-4dc9-9417-253294bfcbed",
   "metadata": {},
   "source": [
    "### 함수\n",
    "#### 가변인자 (*변수)"
   ]
  },
  {
   "cell_type": "code",
   "execution_count": 4,
   "id": "a768c979-50e4-45fc-8231-d11a551183e5",
   "metadata": {},
   "outputs": [
    {
     "name": "stdout",
     "output_type": "stream",
     "text": [
      "이름: 유재석\t 나이: 20\t Python Java C \n",
      "이름: 김태호\t 나이: 25\t Python Swift \n"
     ]
    }
   ],
   "source": [
    "def profile(name, age, *language):\n",
    "    print(\"이름: {0}\\t 나이: {1}\\t\".format(name, age), end=\" \") \n",
    "    #end=\"\" 다음 프린트문을 바로 옆에 출력하게 할것임.\n",
    "    for lang in language:\n",
    "        print(lang, end=\" \")\n",
    "    print()\n",
    "\n",
    "profile(\"유재석\", 20, \"Python\", \"Java\", \"C\")#이름 : 유재석  나이 : 20  Python Java C\n",
    "profile(\"김태호\", 25, \"Python\", \"Swift\") #이름 : 김태호  나이 : 25  Python Swift\n"
   ]
  },
  {
   "cell_type": "markdown",
   "id": "42df1951-4d16-4845-9e8b-33d12012b790",
   "metadata": {},
   "source": [
    "#### 지역변수 전역변수(global)"
   ]
  },
  {
   "cell_type": "code",
   "execution_count": 6,
   "id": "bedd5b9f-2ff7-4768-856d-c648b8abea9b",
   "metadata": {},
   "outputs": [
    {
     "name": "stdout",
     "output_type": "stream",
     "text": [
      "[checkpoint 함수] 남은 총 : 5\n",
      "\n",
      "\n",
      "[checkpoint2 함수] 남은 총 : 3\n"
     ]
    }
   ],
   "source": [
    "gun = 10\n",
    "def checkpoint(soldiers):\n",
    "    global gun # 전역 공간에 있는 gun 사용\n",
    "    gun = gun - soldiers\n",
    "    print(\"[checkpoint 함수] 남은 총 : {}\".format(gun))\n",
    "\n",
    "checkpoint(5)\n",
    "print(\"\\n\")\n",
    "\n",
    "gun2 = 10\n",
    "def checkpoint2(gun2, soldiers):\n",
    "    gun2 = gun2 - soldiers\n",
    "    return gun2\n",
    "gun2 = checkpoint2(gun2, 7)\n",
    "print(\"[checkpoint2 함수] 남은 총 : {}\".format(gun2))"
   ]
  },
  {
   "cell_type": "code",
   "execution_count": 7,
   "id": "0081f7cc-7621-4e31-a6bf-db9fc35a5f26",
   "metadata": {},
   "outputs": [
    {
     "name": "stdout",
     "output_type": "stream",
     "text": [
      "키 175cm 남자의 표준 체중은 67.38입니다.\n"
     ]
    }
   ],
   "source": [
    "def std_weight(height, gender):\n",
    "    if gender == \"남자\":\n",
    "        result = height*height*22\n",
    "        return round(result, 2)\n",
    "    elif gender == \"여자\":\n",
    "        result = height*height*21\n",
    "        return round(result, 2)\n",
    "height = 175\n",
    "print(\"키 {}cm 남자의 표준 체중은 {}입니다.\".format(height,std_weight(height/100,\"남자\")))\n"
   ]
  },
  {
   "cell_type": "markdown",
   "id": "e0a7f239-b13a-4d58-88c4-e123fb1237ce",
   "metadata": {},
   "source": [
    "#### 표준 입출력"
   ]
  },
  {
   "cell_type": "code",
   "execution_count": 9,
   "id": "18082126-955b-4ade-944a-6bf128294ccf",
   "metadata": {},
   "outputs": [
    {
     "name": "stdout",
     "output_type": "stream",
     "text": [
      "Python vs Java?무엇이 재미있을까요\n"
     ]
    }
   ],
   "source": [
    "print(\"Python\", \"Java\", sep=\" vs \", end=\"?\")\n",
    "print(\"무엇이 재미있을까요\")\n",
    "# sep=\"\"를 통해 문자열 사이사이 넣는거 설정\n",
    "# end=\"\"를 통해 문자열 마지막에 넣는거 설정"
   ]
  },
  {
   "cell_type": "code",
   "execution_count": 10,
   "id": "2d130689-5a62-4f6b-a487-432c48290431",
   "metadata": {},
   "outputs": [
    {
     "name": "stdout",
     "output_type": "stream",
     "text": [
      "Python Java\n"
     ]
    },
    {
     "name": "stderr",
     "output_type": "stream",
     "text": [
      "Python Java\n"
     ]
    }
   ],
   "source": [
    "import sys\n",
    "print(\"Python\", \"Java\", file=sys.stdout) # 로그처리시 표준처리에서는 잘 출력되니 신경쓰지 않기\n",
    "print(\"Python\", \"Java\", file=sys.stderr) # 확인을 해서 에러를 처리하라."
   ]
  },
  {
   "cell_type": "code",
   "execution_count": 11,
   "id": "6fe590c3-2be9-41c7-8e64-daa057c39c56",
   "metadata": {},
   "outputs": [
    {
     "name": "stdout",
     "output_type": "stream",
     "text": [
      "수학      :   0\n",
      "영어      :  50\n",
      "코딩      : 100\n"
     ]
    }
   ],
   "source": [
    "scores = {\"수학\":0, \"영어\":50, \"코딩\":100}\n",
    "for subject, score in scores.items():\n",
    "    print(subject.ljust(8), str(score).rjust(4), sep=\":\")\n",
    "    #ljust(n): n칸만큼의 공간을 확보 후 왼쪽으로 정렬\n",
    "    #str(): 형 변환"
   ]
  },
  {
   "cell_type": "code",
   "execution_count": 12,
   "id": "beb125c8-50fb-4f5f-8976-efe3ff2ceeb2",
   "metadata": {},
   "outputs": [
    {
     "name": "stdout",
     "output_type": "stream",
     "text": [
      "       500\n",
      "      +500\n",
      "      -500\n",
      "500_______\n",
      "+100,000,000,000,000,000\n",
      "1.67\n"
     ]
    }
   ],
   "source": [
    "# 빈자리는 빈공간으로 두고, 오른쪽 정렬을 하되, 총 10자리 공간을 확보\n",
    "print(\"{0: >10}\".format(500))\n",
    "\n",
    "# 양수일땐 +로 표시, 음수일 땐 -로 표시\n",
    "print(\"{0: >+10}\".format(500))\n",
    "print(\"{0: >-10}\".format(-500))\n",
    "\n",
    "# 오른쪽 정렬하고, 빈칸은 _로 채움\n",
    "print(\"{0:_<10}\".format(500))\n",
    "\n",
    "# 3자리 마다 콤마를 찍어주기, +-부호도 붙이기\n",
    "print(\"{0:+,}\".format(100000000000000000))\n",
    "\n",
    "# 소수점 특정 자리수 까지만 출력(반올림)\n",
    "print(\"{0:.2f}\".format(5/3))"
   ]
  },
  {
   "cell_type": "markdown",
   "id": "ebdbfa00-e623-40bf-b1a7-c4788a2ab449",
   "metadata": {},
   "source": [
    "#### 파일 입출력"
   ]
  },
  {
   "cell_type": "code",
   "execution_count": 27,
   "id": "5dd68d0c-65e6-4c58-8f56-01d7dd2b517e",
   "metadata": {},
   "outputs": [
    {
     "name": "stdout",
     "output_type": "stream",
     "text": [
      "수학:0\n",
      "과학 : 80\n",
      "수학:0\n",
      "과학 : 80\n"
     ]
    }
   ],
   "source": [
    "#score.txt 파일에 쓰는방식(w)으로 열겠다.\n",
    "score_file = open(\"score.txt\", \"w\", encoding=\"utf8\")\n",
    "print(\"수학:0\", file=score_file)\n",
    "score_file.close() # 파일닫기\n",
    "\n",
    "# \"a\" : 추가하여 글 쓰는 방식(append)\n",
    "score_file = open(\"score.txt\", \"a\", encoding=\"utf8\")\n",
    "score_file.write(\"과학 : 80\") #줄바꿈이 따로 없음\n",
    "score_file.close()\n",
    "\n",
    "# 읽어 오기\n",
    "score_file = open(\"score.txt\", \"r\", encoding=\"utf8\")\n",
    "print(score_file.read())\n",
    "score_file.close()\n",
    "\n",
    "# 더 쉽게 with as로 가능\n",
    "with open(\"score.txt\", \"r\", encoding=\"utf8\") as score_file:\n",
    "    print(score_file.read())"
   ]
  },
  {
   "cell_type": "markdown",
   "id": "f692d8db-c1d8-43ae-83d8-77af8ec1a3ca",
   "metadata": {},
   "source": [
    "#### 클래스"
   ]
  },
  {
   "cell_type": "code",
   "execution_count": 40,
   "id": "ac1c6d4d-07d8-49c1-a6cb-5420dd2df06d",
   "metadata": {},
   "outputs": [
    {
     "name": "stdout",
     "output_type": "stream",
     "text": [
      "마린유닛이 생성 되었습니다\n",
      " \n",
      "마린유닛이 2시방향으로 공격을 합니다.\n"
     ]
    }
   ],
   "source": [
    "class Unit:\n",
    "    def __init__(self, name, hp, damage): # __init__:생성자, self를 제외한 나머지는 매개변수\n",
    "        self.name = name # self.naem : 맴버 변수로 클래스 내에 선언된 변\n",
    "        self.hp = hp\n",
    "        self.damage = damage\n",
    "        print(\"{}유닛이 생성 되었습니다\".format(self.name))\n",
    "\n",
    "    def attack(self, location):\n",
    "        print(\"{}유닛이 {}방향으로 공격을 합니다.\".format(self.name, location))\n",
    "\n",
    "marine1 = Unit(\"마린\", 40, 5)\n",
    "print(\" \")\n",
    "marine1.attack(\"2시\")\n"
   ]
  },
  {
   "cell_type": "code",
   "execution_count": null,
   "id": "23df7284-dd5a-473d-9587-b20afd0db494",
   "metadata": {},
   "outputs": [],
   "source": []
  }
 ],
 "metadata": {
  "kernelspec": {
   "display_name": "Python [conda env:base] *",
   "language": "python",
   "name": "conda-base-py"
  },
  "language_info": {
   "codemirror_mode": {
    "name": "ipython",
    "version": 3
   },
   "file_extension": ".py",
   "mimetype": "text/x-python",
   "name": "python",
   "nbconvert_exporter": "python",
   "pygments_lexer": "ipython3",
   "version": "3.12.7"
  }
 },
 "nbformat": 4,
 "nbformat_minor": 5
}
