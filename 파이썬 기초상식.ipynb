{
 "cells": [
  {
   "cell_type": "markdown",
   "id": "13a7bb57-860a-4676-b89d-d80d30546181",
   "metadata": {},
   "source": [
    "### 문자열\n",
    "##### a.lower(),   a.upper(),   a[0].isupper() = true/false,   len(a)\n",
    "##### a.replace(\"바뀌는 글\", \"들어가는 말\")\n",
    "##### a.index(\"n\", 숫자) = n이 몇번 인덱스에 있는지 혹은 숫자 부터 n번이 어디에 있는지, 없을경우 오류\n",
    "##### a.find(\"n\") = n이 있으면 숫자 없으면 -1\n",
    "##### a.count(\"n\") = n이 총 몇번 나오는지\n",
    "\n",
    "##### print(\"나는 %d살이고 친구는 %d살 입니다.\" % (20, 30))\n",
    "##### print(\"나는 {}살이고 친구는 {}살 입니다.\".format(20, 30))"
   ]
  },
  {
   "cell_type": "markdown",
   "id": "f92c07b2-c4e1-4dbe-b1f6-5bc3848fcb4f",
   "metadata": {},
   "source": [
    "### 리스트\n",
    "##### a.index(\"바나나\") = 바나나의 인덱스 번호\n",
    "##### a.append(\"사과\") = 맨 뒤 인덱스에 사과를 추가\n",
    "##### a.insert(몇번째에 넣을지 숫자 기입, \"수박\")\n",
    "##### a.pop() = 뒤에서 부터 하나씩 꺼냄\n",
    "##### a.count(\"수박\") = 수박이 몇개 있는지\n",
    "##### a.sort() = 순서 정렬, \\t a.reverse() = 역순으로 정렬\n",
    "##### a.clear() = 리스트의 모든 값 지움\n",
    "##### a1.extend(a) = a1에 a를 추가\n",
    "##### "
   ]
  },
  {
   "cell_type": "markdown",
   "id": "42047b8e-43d3-4dc9-9417-253294bfcbed",
   "metadata": {},
   "source": []
  }
 ],
 "metadata": {
  "kernelspec": {
   "display_name": "Python [conda env:base] *",
   "language": "python",
   "name": "conda-base-py"
  },
  "language_info": {
   "codemirror_mode": {
    "name": "ipython",
    "version": 3
   },
   "file_extension": ".py",
   "mimetype": "text/x-python",
   "name": "python",
   "nbconvert_exporter": "python",
   "pygments_lexer": "ipython3",
   "version": "3.12.7"
  }
 },
 "nbformat": 4,
 "nbformat_minor": 5
}
