{
 "cells": [
  {
   "cell_type": "code",
   "execution_count": 1,
   "id": "0ac41833-72af-44fb-a6e6-336ab02f5d14",
   "metadata": {},
   "outputs": [],
   "source": [
    "class Convolution:\n",
    "    def __init__(self, W, b, stride=1, pad=0):\n",
    "        self.W = W\n",
    "        self.b = b\n",
    "        self.stride = stride\n",
    "        self.pad = pad\n",
    "\n",
    "        self.x = None\n",
    "        self.col = None\n",
    "        self.col_W = None\n",
    "        self.dW = None\n",
    "        self.db = None\n",
    "\n",
    "    def forward(self, x):\n",
    "        FN, C, FH, FW = self.W.shape\n",
    "        N, C, H, W = x.shape\n",
    "        out_h = (H + 2*self.pad - FH)//self.stride + 1\n",
    "        out_w = (W + 2*self.pad - FW)//self.stride + 1\n",
    "\n",
    "        col = im2col(x, FH, FW, self.stride, self.pad)\n",
    "        col_W = self.W.reshape(FN, -1).T\n",
    "\n",
    "        out = np.dot(col, col_W) + self.b\n",
    "        out = out.reshape(N, out_h, out_w, -1).transpose(0, 3, 1, 2)\n",
    "\n",
    "        self.x = x\n",
    "        self.col = col\n",
    "        self.col_W = col_W\n",
    "\n",
    "        return out\n",
    "\n",
    "    def backward(self, dout):\n",
    "        FN, C, FH, FW = self.W.shape\n",
    "        dout = dout.transpose(0, 2, 3, 1).reshape(-1, FN)\n",
    "\n",
    "        self.db = np.sum(dout, axis = 0)\n",
    "        self.dW = np.dot(self.col.T, dout)\n",
    "        self.dW = self.dW.transpose(1, 0).reshape(FN, C, FH, FW)\n",
    "\n",
    "        dcol = np.dot(dout, self.col_W.T)\n",
    "        dx = col2im(dcol, self.x.shape, FH, FW, self.stride, self.pad)\n",
    "\n",
    "        return dx\n",
    "\n"
   ]
  },
  {
   "cell_type": "code",
   "execution_count": 2,
   "id": "d93fee9c-f99c-459a-970a-fabc33d1d60e",
   "metadata": {},
   "outputs": [
    {
     "name": "stdout",
     "output_type": "stream",
     "text": [
      "x_train : (60000, 1, 28, 28)\n",
      "t_train : (60000, 10)\n",
      "x_test : (10000, 1, 28, 28)\n",
      "t_test : (10000, 10)\n"
     ]
    }
   ],
   "source": [
    "import numpy as np\n",
    "from dataset.mnist import load_mnist\n",
    "\n",
    "(x_train, t_train), (x_test, t_test) = load_mnist(normalize=True, one_hot_label=True, flatten=False)\n",
    "print('x_train :', np.shape(x_train))\n",
    "print('t_train :', np.shape(t_train))\n",
    "print('x_test :', np.shape(x_test))\n",
    "print('t_test :', np.shape(t_test))"
   ]
  },
  {
   "cell_type": "code",
   "execution_count": 3,
   "id": "84885789-0c94-4383-b889-be788ecaebe0",
   "metadata": {},
   "outputs": [],
   "source": [
    "def im2col(input_data, filter_h, filter_w, stride=1, pad=0):\n",
    "    N, C, H, W = input_data.shape\n",
    "    out_h = (H + 2*pad - filter_h)//stride + 1\n",
    "    out_w = (W + 2*pad - filter_w)//stride + 1\n",
    "\n",
    "    img = np.pad(input_data, [(0,0), (0,0), (pad, pad), (pad, pad)])\n",
    "    col = np.zeros((N, C, filter_h, filter_w, out_h, out_w))\n",
    "\n",
    "    for y in range(filter_h):\n",
    "        y_max = y + stride*out_h\n",
    "        for x in range(filter_w):\n",
    "            x_max = x + stride*out_w\n",
    "            col[:,:,y,x,:,:] = img[:,:,y:y_max:stride, x:x_max:stride]\n",
    "\n",
    "    col = col.transpose(0,4,5,1,2,3).reshape(N*out_h*out_w, -1)\n",
    "    return col"
   ]
  },
  {
   "cell_type": "code",
   "execution_count": 4,
   "id": "c51da66b-4bcb-4dd4-accc-876e481b1e02",
   "metadata": {},
   "outputs": [
    {
     "name": "stdout",
     "output_type": "stream",
     "text": [
      "x1.shape : (1, 3, 4, 4)\n",
      "col1.shape : (4, 27)\n",
      "col1 reshape 후 shape : (12, 9)\n",
      "\n",
      "x2.shape : (2, 1, 5, 5)\n",
      "col2.shape : (18, 9)\n",
      "col2 reshape 후 shape : (18, 9)\n"
     ]
    }
   ],
   "source": [
    "import numpy as np\n",
    "window_h = 3\n",
    "window_w = 3\n",
    "\n",
    "x1 = np.random.rand(1,3,4,4)\n",
    "col1 = im2col(x1, window_h, window_w, stride=1, pad=0)\n",
    "print('x1.shape :', x1.shape)\n",
    "print('col1.shape :', col1.shape)\n",
    "col1 = col1.reshape(-1, window_h*window_w)\n",
    "print('col1 reshape 후 shape :', col1.shape)\n",
    "print('')\n",
    "\n",
    "x2 = np.random.rand(2, 1, 5, 5)\n",
    "col2 = im2col(x2, window_h, window_w, stride=1, pad=0)\n",
    "print('x2.shape :', x2.shape)\n",
    "print('col2.shape :', col2.shape)\n",
    "col2 = col2.reshape(-1, window_h*window_w)\n",
    "print('col2 reshape 후 shape :', col2.shape)"
   ]
  },
  {
   "cell_type": "code",
   "execution_count": 5,
   "id": "d1bfe714-72d4-4164-ad9e-90abd42ca1a3",
   "metadata": {},
   "outputs": [
    {
     "name": "stdout",
     "output_type": "stream",
     "text": [
      "패딩이 적용되 전 arrya_2d :\n",
      "[[1 2 3]\n",
      " [4 5 6]]\n",
      "\n",
      "3 패딩이 적용된 array_2d :\n",
      "[[0 0 0 0 0 0 0 0 0]\n",
      " [0 0 0 0 0 0 0 0 0]\n",
      " [0 0 0 0 0 0 0 0 0]\n",
      " [0 0 0 1 2 3 0 0 0]\n",
      " [0 0 0 4 5 6 0 0 0]\n",
      " [0 0 0 0 0 0 0 0 0]\n",
      " [0 0 0 0 0 0 0 0 0]\n",
      " [0 0 0 0 0 0 0 0 0]]\n"
     ]
    }
   ],
   "source": [
    "pad = 3\n",
    "array_2d = np.array([[1,2,3],\n",
    "                    [4,5,6]])\n",
    "\n",
    "print('패딩이 적용되 전 arrya_2d :', array_2d, sep=\"\\n\")\n",
    "print('')\n",
    "\n",
    "pad_array_2d = np.pad(array_2d, ((pad, pad), (pad, pad)))\n",
    "print('3 패딩이 적용된 array_2d :', pad_array_2d, sep='\\n')"
   ]
  },
  {
   "cell_type": "code",
   "execution_count": 6,
   "id": "9501f28b-8235-4605-ae00-af363542f205",
   "metadata": {},
   "outputs": [
    {
     "name": "stdout",
     "output_type": "stream",
     "text": [
      "데이터 :\n",
      "[[[[1 2 3 0]\n",
      "   [0 1 2 3]\n",
      "   [3 0 1 2]\n",
      "   [2 3 0 1]]]]\n",
      "데이터 shape : (1, 1, 4, 4)\n",
      "\n",
      "2 패딩이 적용된 데이터 :\n",
      "[[[[0 0 0 0 0 0 0 0]\n",
      "   [0 0 0 0 0 0 0 0]\n",
      "   [0 0 1 2 3 0 0 0]\n",
      "   [0 0 0 1 2 3 0 0]\n",
      "   [0 0 3 0 1 2 0 0]\n",
      "   [0 0 2 3 0 1 0 0]\n",
      "   [0 0 0 0 0 0 0 0]\n",
      "   [0 0 0 0 0 0 0 0]]]]\n",
      "2 패딩이 적용된 데이터 shape : (1, 1, 8, 8)\n"
     ]
    }
   ],
   "source": [
    "pad = 2\n",
    "bw_img_data = np.array([[[[1,2,3,0],\n",
    "                         [0,1,2,3],\n",
    "                         [3,0,1,2],\n",
    "                         [2,3,0,1]]]])\n",
    "print('데이터 :', bw_img_data, sep='\\n')\n",
    "print('데이터 shape :', bw_img_data.shape)\n",
    "\n",
    "pad_bw_img_data = np.pad(bw_img_data, [(0,0), (0,0), (pad, pad), (pad, pad)])\n",
    "print('')\n",
    "print('2 패딩이 적용된 데이터 :', pad_bw_img_data, sep='\\n')\n",
    "print('2 패딩이 적용된 데이터 shape :', pad_bw_img_data.shape)"
   ]
  },
  {
   "cell_type": "code",
   "execution_count": 7,
   "id": "2b5492ab-565d-4cd1-b4aa-84d3cb3a8e0a",
   "metadata": {},
   "outputs": [
    {
     "name": "stdout",
     "output_type": "stream",
     "text": [
      "정규화된 데이터 : \n",
      "[[[[0.22075877 0.56074948 0.76635941 0.00811926]\n",
      "   [0.12723597 0.67884778 0.89788413 0.99722833]\n",
      "   [0.84979879 0.45185165 0.78277208 0.93799477]\n",
      "   [0.10938518 0.02186101 0.43164242 0.18052619]]\n",
      "\n",
      "  [[0.67360803 0.54969696 0.84229341 0.13816112]\n",
      "   [0.25034876 0.21505377 0.16191027 0.9929289 ]\n",
      "   [0.96298888 0.72784791 0.84981357 0.58571777]\n",
      "   [0.48032153 0.1535079  0.1404452  0.01363936]]\n",
      "\n",
      "  [[0.91847464 0.90492364 0.39777464 0.65505983]\n",
      "   [0.43771171 0.44450704 0.35842762 0.41284031]\n",
      "   [0.29664806 0.32111983 0.46286693 0.97702319]\n",
      "   [0.32648675 0.43029845 0.95321842 0.31838858]]]]\n",
      "정규화도니 데이터 shape : (1, 3, 4, 4)\n",
      "\n",
      "1 패딩이 적용된 데이터 :\n",
      "[[[[0.         0.         0.         0.         0.         0.        ]\n",
      "   [0.         0.22075877 0.56074948 0.76635941 0.00811926 0.        ]\n",
      "   [0.         0.12723597 0.67884778 0.89788413 0.99722833 0.        ]\n",
      "   [0.         0.84979879 0.45185165 0.78277208 0.93799477 0.        ]\n",
      "   [0.         0.10938518 0.02186101 0.43164242 0.18052619 0.        ]\n",
      "   [0.         0.         0.         0.         0.         0.        ]]\n",
      "\n",
      "  [[0.         0.         0.         0.         0.         0.        ]\n",
      "   [0.         0.67360803 0.54969696 0.84229341 0.13816112 0.        ]\n",
      "   [0.         0.25034876 0.21505377 0.16191027 0.9929289  0.        ]\n",
      "   [0.         0.96298888 0.72784791 0.84981357 0.58571777 0.        ]\n",
      "   [0.         0.48032153 0.1535079  0.1404452  0.01363936 0.        ]\n",
      "   [0.         0.         0.         0.         0.         0.        ]]\n",
      "\n",
      "  [[0.         0.         0.         0.         0.         0.        ]\n",
      "   [0.         0.91847464 0.90492364 0.39777464 0.65505983 0.        ]\n",
      "   [0.         0.43771171 0.44450704 0.35842762 0.41284031 0.        ]\n",
      "   [0.         0.29664806 0.32111983 0.46286693 0.97702319 0.        ]\n",
      "   [0.         0.32648675 0.43029845 0.95321842 0.31838858 0.        ]\n",
      "   [0.         0.         0.         0.         0.         0.        ]]]]\n",
      "1 패딩이 적용된 데이터 shape : (1, 3, 6, 6)\n"
     ]
    }
   ],
   "source": [
    "pad = 1\n",
    "img_data = np.random.rand(1,3,4,4)\n",
    "print('정규화된 데이터 : ', img_data, sep='\\n')\n",
    "print('정규화도니 데이터 shape :', img_data.shape)\n",
    "\n",
    "pad_img_data = np.pad(img_data, [(0,0), (0,0), (pad, pad), (pad, pad)])\n",
    "print('')\n",
    "print('1 패딩이 적용된 데이터 :', pad_img_data, sep='\\n')\n",
    "print('1 패딩이 적용된 데이터 shape :', pad_img_data.shape)"
   ]
  },
  {
   "cell_type": "code",
   "execution_count": 8,
   "id": "d49b4705-e666-4a70-b678-5b96b483817f",
   "metadata": {},
   "outputs": [],
   "source": [
    "def col2im(col, input_shape, filter_h, filter_w, stride=1, pad=0):\n",
    "    N, C, H, W = input_shape\n",
    "    out_h = (H + 2*pad - filter_h)//stride + 1\n",
    "    out_w = (W + 2*pad - filter_w)//stride + 1\n",
    "    col = col.reshape(N, out_h, out_w, C, filter_h, filter_w).transpose(0,3,4,5,1,2)\n",
    "\n",
    "    img = np.zeros((N,C,H + 2*pad + stride - 1, W + 2*pad + stride -1))\n",
    "    for y in range(filter_h):\n",
    "        y_max = y + stride*out_h\n",
    "        for x in range(filter_w):\n",
    "            x_max = x + stride*out_w\n",
    "            img[:,:, y:y_max:stride, x:x_max:stride]+=col[:,:,y,x,:,:]\n",
    "\n",
    "    return img[:, :, pad:H + pad, pad:W + pad]"
   ]
  },
  {
   "cell_type": "code",
   "execution_count": 9,
   "id": "7d48cc15-959e-4a21-9bee-dd3297c58eb7",
   "metadata": {},
   "outputs": [],
   "source": [
    "class ReLU:\n",
    "    def __init__(self):\n",
    "        self.boolean_array = None\n",
    "    def forward(self, x):\n",
    "        self.boolean_array = (x <= 0)\n",
    "        out = x.copy()\n",
    "        out[self.boolean_array] = 0\n",
    "        return out\n",
    "\n",
    "    def backward(self, dout):\n",
    "        dout[self.boolean_array] = 0\n",
    "        dx = dout\n",
    "        return dx"
   ]
  },
  {
   "cell_type": "code",
   "execution_count": 10,
   "id": "ccc29ebb-9e3a-4337-949b-874224023d87",
   "metadata": {},
   "outputs": [
    {
     "name": "stdout",
     "output_type": "stream",
     "text": [
      "[[False  True]\n",
      " [ True False]]\n"
     ]
    }
   ],
   "source": [
    "x = np.array([[1.0, -1.5],\n",
    "             [-4.0, 6.0]])\n",
    "boolean_array = (x<=0)\n",
    "print(boolean_array)"
   ]
  },
  {
   "cell_type": "code",
   "execution_count": 11,
   "id": "29405f13-f2d7-4ff0-bb14-ba73ce58fdb6",
   "metadata": {},
   "outputs": [
    {
     "name": "stdout",
     "output_type": "stream",
     "text": [
      "out :\n",
      "[[ 1.  -1.5]\n",
      " [-4.   6. ]]\n"
     ]
    }
   ],
   "source": [
    "out = x.copy()\n",
    "print('out :', out, sep='\\n')"
   ]
  },
  {
   "cell_type": "code",
   "execution_count": 12,
   "id": "ad4f0ece-8342-415c-9198-ed9429ab1498",
   "metadata": {},
   "outputs": [
    {
     "name": "stdout",
     "output_type": "stream",
     "text": [
      "out[boolean_array]: [-1.5 -4. ]\n",
      "out :\n",
      "[[1. 0.]\n",
      " [0. 6.]]\n"
     ]
    }
   ],
   "source": [
    "print('out[boolean_array]:', out[boolean_array])\n",
    "\n",
    "out[boolean_array] = 0\n",
    "print('out :', out, sep='\\n')"
   ]
  },
  {
   "cell_type": "code",
   "execution_count": 13,
   "id": "990e9727-d0ad-481d-bc81-6b94ce185018",
   "metadata": {},
   "outputs": [],
   "source": [
    "class Pooling:\n",
    "    def __init__(self, pool_h, pool_w, stride=1, pad=0):\n",
    "        self.pool_h = pool_h\n",
    "        self.pool_w = pool_w\n",
    "        self.stride = stride\n",
    "        self.pad = pad\n",
    "\n",
    "        self.x = None\n",
    "        self.arg_max = None\n",
    "\n",
    "    def forward(self, x):\n",
    "        N,C,H,W = x.shape\n",
    "        out_h = (H - self.pool_h)//self.stride + 1\n",
    "        out_w = (W - self.pool_w)//self.stride + 1\n",
    "\n",
    "        col = im2col(x, self.pool_h, self.pool_w, self.stride, self.pad)\n",
    "        col = col.reshape(-1, self.pool_h*self.pool_w)\n",
    "\n",
    "        arg_max = np.argmax(col, axis=1)\n",
    "        out = np.max(col, axis=1)\n",
    "        out = out.reshape(N, out_h, out_w, C).transpose(0,3,1,2)\n",
    "\n",
    "        self.x = x\n",
    "        self.arg_max = arg_max\n",
    "\n",
    "        return out\n",
    "\n",
    "    def backward(self, dout):\n",
    "        dout = dout.transpose(0,2,3,1)\n",
    "\n",
    "        pool_size = self.pool_h * self.pool_w\n",
    "        dmax = np.zeros((dout.size, pool_size))\n",
    "        dmax[np.arange(self.arg_max.size), self.arg_max.flatten()] = dout.flatten()\n",
    "        dmax = dmax.reshape(dout.shape + (pool_size,))\n",
    "\n",
    "        dcol = dmax.reshape(dmax.shape[0] * dmax.shape[1] * dmax.shape[2], -1)\n",
    "        dx = col2im(dcol, self.x.shape, self.pool_h, self.pool_w, self.stride, self.pad)\n",
    "\n",
    "        return dx"
   ]
  },
  {
   "cell_type": "code",
   "execution_count": 14,
   "id": "ca7374f5-8fe8-4186-a3b6-d3b2dd6f7de7",
   "metadata": {},
   "outputs": [
    {
     "name": "stdout",
     "output_type": "stream",
     "text": [
      "맨 처음 데이터 : \n",
      "[[[[ 0  1  2  3]\n",
      "   [ 4  5  6  7]\n",
      "   [ 8  9 10 11]\n",
      "   [12 13 14 15]]]\n",
      "\n",
      "\n",
      " [[[16 17 18 19]\n",
      "   [20 21 22 23]\n",
      "   [24 25 26 27]\n",
      "   [28 29 30 31]]]]\n",
      "맨 처음 데이터 shape : (2, 1, 4, 4)\n",
      "\n",
      "im2col 적용 후 데이터 :\n",
      "[[ 0.  1.  4.  5.]\n",
      " [ 2.  3.  6.  7.]\n",
      " [ 8.  9. 12. 13.]\n",
      " [10. 11. 14. 15.]\n",
      " [16. 17. 20. 21.]\n",
      " [18. 19. 22. 23.]\n",
      " [24. 25. 28. 29.]\n",
      " [26. 27. 30. 31.]]\n",
      "im2col 적용 후 데이터 shape : (8, 4)\n",
      "reshape 후 데이터 :\n",
      "[[ 0.  1.  4.  5.]\n",
      " [ 2.  3.  6.  7.]\n",
      " [ 8.  9. 12. 13.]\n",
      " [10. 11. 14. 15.]\n",
      " [16. 17. 20. 21.]\n",
      " [18. 19. 22. 23.]\n",
      " [24. 25. 28. 29.]\n",
      " [26. 27. 30. 31.]]\n",
      "\n",
      "reshape 후 데이터 shape : (8, 4)\n"
     ]
    }
   ],
   "source": [
    "pool_h =2\n",
    "pool_w = 2\n",
    "stride = 2\n",
    "pad = 0\n",
    "\n",
    "x=np.arange(32)\n",
    "x=x.reshape(2,1,4,4)\n",
    "\n",
    "print('맨 처음 데이터 : ', x, sep='\\n')\n",
    "print('맨 처음 데이터 shape :', x.shape)\n",
    "print('')\n",
    "\n",
    "im2col_x = im2col(x, pool_h, pool_w, stride, pad)\n",
    "print('im2col 적용 후 데이터 :', im2col_x, sep='\\n')\n",
    "print('im2col 적용 후 데이터 shape :', im2col_x.shape)\n",
    "\n",
    "im2col_x = im2col_x.reshape(-1, pool_h*pool_w)\n",
    "print('reshape 후 데이터 :', im2col_x, sep='\\n')\n",
    "print('')\n",
    "\n",
    "print('reshape 후 데이터 shape :', im2col_x.shape)"
   ]
  },
  {
   "cell_type": "code",
   "execution_count": 15,
   "id": "d3b04090-651d-468c-ba8d-bf2065019ad4",
   "metadata": {},
   "outputs": [
    {
     "name": "stdout",
     "output_type": "stream",
     "text": [
      "맨 처음 데이터 : \n",
      "[[[[ 0  1  2]\n",
      "   [ 3  4  5]\n",
      "   [ 6  7  8]]\n",
      "\n",
      "  [[ 9 10 11]\n",
      "   [12 13 14]\n",
      "   [15 16 17]]\n",
      "\n",
      "  [[18 19 20]\n",
      "   [21 22 23]\n",
      "   [24 25 26]]]]\n",
      "맨 처음 데이터 shape : (1, 3, 3, 3)\n",
      "\n",
      "im2col 적용 후 데이터 :\n",
      "[[ 0.  1.  3.  4.  9. 10. 12. 13. 18. 19. 21. 22.]\n",
      " [ 1.  2.  4.  5. 10. 11. 13. 14. 19. 20. 22. 23.]\n",
      " [ 3.  4.  6.  7. 12. 13. 15. 16. 21. 22. 24. 25.]\n",
      " [ 4.  5.  7.  8. 13. 14. 16. 17. 22. 23. 25. 26.]]\n",
      "im2col 적용 후 데이터 shape : (4, 12)\n",
      "reshape 후 데이터 :\n",
      "[[ 0.  1.  3.  4.]\n",
      " [ 9. 10. 12. 13.]\n",
      " [18. 19. 21. 22.]\n",
      " [ 1.  2.  4.  5.]\n",
      " [10. 11. 13. 14.]\n",
      " [19. 20. 22. 23.]\n",
      " [ 3.  4.  6.  7.]\n",
      " [12. 13. 15. 16.]\n",
      " [21. 22. 24. 25.]\n",
      " [ 4.  5.  7.  8.]\n",
      " [13. 14. 16. 17.]\n",
      " [22. 23. 25. 26.]]\n",
      "\n",
      "reshape 후 데이터 shape : (12, 4)\n"
     ]
    }
   ],
   "source": [
    "pool_h =2\n",
    "pool_w = 2\n",
    "stride = 1\n",
    "pad = 0\n",
    "\n",
    "x=np.arange(27)\n",
    "x=x.reshape(1,3,3,3)\n",
    "\n",
    "print('맨 처음 데이터 : ', x, sep='\\n')\n",
    "print('맨 처음 데이터 shape :', x.shape)\n",
    "print('')\n",
    "\n",
    "im2col_x = im2col(x, pool_h, pool_w, stride, pad)\n",
    "print('im2col 적용 후 데이터 :', im2col_x, sep='\\n')\n",
    "print('im2col 적용 후 데이터 shape :', im2col_x.shape)\n",
    "\n",
    "im2col_x = im2col_x.reshape(-1, pool_h*pool_w)\n",
    "print('reshape 후 데이터 :', im2col_x, sep='\\n')\n",
    "print('')\n",
    "\n",
    "print('reshape 후 데이터 shape :', im2col_x.shape)"
   ]
  },
  {
   "cell_type": "code",
   "execution_count": 16,
   "id": "23ee3368-6cc9-4c90-9b6e-3c22d87b3a29",
   "metadata": {},
   "outputs": [
    {
     "name": "stdout",
     "output_type": "stream",
     "text": [
      "axis=1을 적용한 최대 index : [3 3 3 3 3 3 3 3 3 3 3 3]\n",
      "axis=1을 적용한 최대 값 : [ 4. 13. 22.  5. 14. 23.  7. 16. 25.  8. 17. 26.]\n"
     ]
    }
   ],
   "source": [
    "arg_max = np.argmax(im2col_x , axis=1)\n",
    "out_max = np.max(im2col_x, axis=1)\n",
    "print('axis=1을 적용한 최대 index :', arg_max)\n",
    "print('axis=1을 적용한 최대 값 :', out_max)"
   ]
  },
  {
   "cell_type": "code",
   "execution_count": 17,
   "id": "8f034ca5-decb-411f-9e32-2e8109fad97d",
   "metadata": {},
   "outputs": [
    {
     "name": "stdout",
     "output_type": "stream",
     "text": [
      "axis=1을 적용하지 않은 최대 index : 47\n",
      "axis=1을 적용하지 않은 최대 값 : 26.0\n"
     ]
    }
   ],
   "source": [
    "arg_max = np.argmax(im2col_x)\n",
    "out_max = np.max(im2col_x)\n",
    "print('axis=1을 적용하지 않은 최대 index :', arg_max)\n",
    "print('axis=1을 적용하지 않은 최대 값 :', out_max)"
   ]
  },
  {
   "cell_type": "code",
   "execution_count": 18,
   "id": "f1b95ebb-134a-412e-9a0e-f914da4dd427",
   "metadata": {},
   "outputs": [],
   "source": [
    "import numpy as np\n",
    "import matplotlib.pyplot as plt\n",
    "from collections import OrderedDict\n",
    "from common.layers import *\n",
    "from dataset.mnist import load_mnist\n",
    "\n",
    "class CNN:\n",
    "    def __init__(self, input_dim=(1, 28, 28),\n",
    "                conv_param={'filter_num': 30, 'filter_size':5, 'pad':0, 'stride':1},\n",
    "                hidden_size=100, output_size=10, weight_init_std=0.01):\n",
    "        filter_num = conv_param['filter_num']\n",
    "        filter_size = conv_param['filter_size']\n",
    "        filter_pad = conv_param['pad']\n",
    "        filter_stride = conv_param['stride']\n",
    "        input_size = input_dim[1]\n",
    "        conv_output_size = (input_size - filter_size + 2*filter_pad)//filter_stride + 1\n",
    "        pool_output_size = filter_num * (conv_output_size//2)*(conv_output_size//2)\n",
    "\n",
    "        self.params = {}\n",
    "        self.params['W1'] = weight_init_std * np.random.randn(filter_num, input_dim[0], filter_size, filter_size)\n",
    "        self.params['b1'] = np.zeros(filter_num)\n",
    "        self.params['W2'] = weight_init_std * np.random.randn(pool_output_size, hidden_size)\n",
    "        self.params['b2'] = np.zeros(hidden_size)\n",
    "        self.params['W3'] = weight_init_std * np.random.randn(hidden_size, output_size)\n",
    "        self.params['b3'] = np.zeros(output_size)\n",
    "\n",
    "        self.layers = OrderedDict()\n",
    "        self.layers['Conv1'] = Convolution(self.params['W1'], self.params['b1'],\n",
    "                                           conv_param['stride'], conv_param['pad'])\n",
    "\n",
    "        self.layers['ReLU1'] = ReLU()\n",
    "        self.layers['Pool1'] = Pooling(pool_h=2, pool_w=2, stride=2)\n",
    "        self.layers['Affine1'] = Affine(self.params['W2'], self.params['b2'])\n",
    "        self.layers['ReLU2'] = ReLU()\n",
    "        self.layers['Affine2'] = Affine(self.params['W3'], self.params['b3'])\n",
    "\n",
    "        self.lastLayer = SoftmaxWithLoss()\n",
    "\n",
    "    def predict(self, x):\n",
    "        for layer in self.layers.values():\n",
    "            x = layer.forward(x)\n",
    "        return x\n",
    "\n",
    "    def loss(self, x, t):\n",
    "        y = self.predict(x)\n",
    "        return self.lastLayer.forward(y, t)\n",
    "\n",
    "    def accuracy(self, x, t):\n",
    "        y = self.predict(x)\n",
    "        y = np.argmax(y, axis=1)\n",
    "        if t.ndim != 1 : t = np.argmax(t, axis=1)\n",
    "        accuracy = np. sum(y == t)/ float(x.shape[0])\n",
    "        return accuracy\n",
    "\n",
    "    def gradient(self, x, t):\n",
    "        self.loss(x, t)\n",
    "\n",
    "        dout =1\n",
    "        dout = self.lastLayer.backward(dout)\n",
    "\n",
    "        layers = list(self.layers.values())\n",
    "        layers.reverse()\n",
    "        for layer in layers:\n",
    "            dout = layer.backward(dout)\n",
    "\n",
    "        grads = {}\n",
    "        grads['W1'], grads['b1'] = self.layers['Conv1'].dW, self.layers['Conv1'].db\n",
    "        grads['W2'], grads['b2'] = self.layers['Affine1'].dW, self.layers['Affine1'].db\n",
    "        grads['W3'], grads['b3'] = self.layers['Affine2'].dW, self.layers['Affine2'].db\n",
    "        return grads\n",
    "        "
   ]
  },
  {
   "cell_type": "code",
   "execution_count": 19,
   "id": "d24e8610-c250-4cfc-ba0e-9422b1684aff",
   "metadata": {},
   "outputs": [
    {
     "name": "stdout",
     "output_type": "stream",
     "text": [
      "x_train : (5000, 1, 28, 28)\n",
      "t_train : (5000, 10)\n",
      "x_test : (1000, 1, 28, 28)\n",
      "t_test : (1000, 10)\n"
     ]
    }
   ],
   "source": [
    "(x_train, t_train), (x_test, t_test) = load_mnist(normalize=True,\n",
    "                                                  one_hot_label=True, flatten=False)\n",
    "x_train = x_train[:5000]\n",
    "t_train = t_train[:5000]\n",
    "x_test = x_test[:1000]\n",
    "t_test = t_test[:1000]\n",
    "print('x_train :', np.shape(x_train))\n",
    "print('t_train :', np.shape(t_train))\n",
    "print('x_test :', np.shape(x_test))\n",
    "print('t_test :', np.shape(t_test))\n",
    "\n",
    "network = CNN()\n",
    "iters_num = 2000\n",
    "train_size = x_train.shape[0]\n",
    "batch_size = 50\n",
    "learning_rate = 0.1\n",
    "\n",
    "train_loss_list = []\n",
    "train_loss_list2 = []\n",
    "train_acc_list = []\n",
    "test_acc_list = []\n",
    "\n",
    "epoch = 0"
   ]
  },
  {
   "cell_type": "code",
   "execution_count": 20,
   "id": "71e0dbc2-7994-4035-831a-de0f0139b4df",
   "metadata": {},
   "outputs": [
    {
     "name": "stdout",
     "output_type": "stream",
     "text": [
      "Epoch : 1 >> train 정확도 : 11.0  / test 정확도 : 9.9  / loss : 2.3008\n",
      "Epoch : 2 >> train 정확도 : 32.56  / test 정확도 : 31.5  / loss : 2.2789\n",
      "Epoch : 3 >> train 정확도 : 80.76  / test 정확도 : 75.4  / loss : 0.477\n",
      "Epoch : 4 >> train 정확도 : 90.32  / test 정확도 : 86.6  / loss : 0.1336\n",
      "Epoch : 5 >> train 정확도 : 91.44  / test 정확도 : 87.0  / loss : 0.175\n",
      "Epoch : 6 >> train 정확도 : 93.34  / test 정확도 : 88.6  / loss : 0.0859\n",
      "Epoch : 7 >> train 정확도 : 94.52  / test 정확도 : 90.2  / loss : 0.0375\n",
      "Epoch : 8 >> train 정확도 : 95.78  / test 정확도 : 91.5  / loss : 0.0425\n",
      "Epoch : 9 >> train 정확도 : 96.3  / test 정확도 : 92.4  / loss : 0.0645\n",
      "Epoch : 10 >> train 정확도 : 96.36  / test 정확도 : 91.6  / loss : 0.0685\n",
      "Epoch : 11 >> train 정확도 : 97.32  / test 정확도 : 93.1  / loss : 0.0765\n",
      "Epoch : 12 >> train 정확도 : 97.64  / test 정확도 : 93.2  / loss : 0.0237\n",
      "Epoch : 13 >> train 정확도 : 97.56  / test 정확도 : 93.2  / loss : 0.0518\n",
      "Epoch : 14 >> train 정확도 : 98.28  / test 정확도 : 93.5  / loss : 0.0063\n",
      "Epoch : 15 >> train 정확도 : 98.38  / test 정확도 : 94.3  / loss : 0.0228\n",
      "Epoch : 16 >> train 정확도 : 97.94  / test 정확도 : 92.7  / loss : 0.0249\n",
      "Epoch : 17 >> train 정확도 : 97.92  / test 정확도 : 94.0  / loss : 0.0629\n",
      "Epoch : 18 >> train 정확도 : 98.92  / test 정확도 : 93.4  / loss : 0.0055\n",
      "Epoch : 19 >> train 정확도 : 99.32  / test 정확도 : 94.7  / loss : 0.0048\n",
      "Epoch : 20 >> train 정확도 : 99.06  / test 정확도 : 94.0  / loss : 0.0068\n",
      "종료!\n"
     ]
    }
   ],
   "source": [
    "iter_per_epoch = train_size // batch_size\n",
    "\n",
    "for i in range(iters_num):\n",
    "    batch_mask = np.random.choice(train_size, batch_size)\n",
    "    x_batch = x_train[batch_mask]\n",
    "    t_batch = t_train[batch_mask]\n",
    "\n",
    "    grad = network.gradient(x_batch, t_batch)\n",
    "\n",
    "    for key in ('W1', 'b1', 'W2', 'b2', 'W3', 'b3'):\n",
    "        network.params[key] -= learning_rate * grad[key]\n",
    "\n",
    "    loss = network.loss(x_batch, t_batch)\n",
    "    train_loss_list.append(loss)\n",
    "\n",
    "    if i % iter_per_epoch == 0:\n",
    "        epoch += 1\n",
    "        train_acc = network.accuracy(x_train, t_train)\n",
    "        test_acc = network.accuracy(x_test, t_test)\n",
    "        train_acc_list.append(train_acc)\n",
    "        test_acc_list.append(test_acc)\n",
    "        train_loss_list2.append(loss)\n",
    "        print('Epoch :', epoch, '>> train 정확도 :', round(train_acc*100, 2),\n",
    "              ' / test 정확도 :', round(test_acc*100, 2),\n",
    "              ' / loss :', round(loss, 4))\n",
    "\n",
    "print('종료!')"
   ]
  },
  {
   "cell_type": "code",
   "execution_count": 21,
   "id": "01472c76-acbc-456d-bbd1-914b15f97810",
   "metadata": {},
   "outputs": [
    {
     "data": {
      "text/plain": [
       "<function matplotlib.pyplot.show(close=None, block=None)>"
      ]
     },
     "execution_count": 21,
     "metadata": {},
     "output_type": "execute_result"
    },
    {
     "data": {
      "image/png": "[encoded data removed]",
      "text/plain": [
       "<Figure size 1500x900 with 1 Axes>"
      ]
     },
     "metadata": {},
     "output_type": "display_data"
    }
   ],
   "source": [
    "import matplotlib.pyplot as plt\n",
    "\n",
    "plt.figure(figsize=(15, 9))\n",
    "plt.plot(train_loss_list2)\n",
    "plt.title('model loss')\n",
    "plt.ylabel('loss')\n",
    "plt.xlabel('epoch')\n",
    "plt.legend(['loss'], loc='upper left')\n",
    "plt.show"
   ]
  },
  {
   "cell_type": "code",
   "execution_count": 22,
   "id": "998d9d77-6c57-4e3a-a265-2249e591284d",
   "metadata": {},
   "outputs": [
    {
     "data": {
      "text/plain": [
       "<function matplotlib.pyplot.show(close=None, block=None)>"
      ]
     },
     "execution_count": 22,
     "metadata": {},
     "output_type": "execute_result"
    },
    {
     "data": {
      "image/png": "[encoded data removed]",
      "text/plain": [
       "<Figure size 1500x900 with 1 Axes>"
      ]
     },
     "metadata": {},
     "output_type": "display_data"
    }
   ],
   "source": [
    "import matplotlib.pyplot as plt\n",
    "\n",
    "plt.figure(figsize=(15, 9))\n",
    "plt.plot(train_acc_list)\n",
    "plt.plot(test_acc_list)\n",
    "plt.title('model accuracy')\n",
    "plt.ylabel('accuracy')\n",
    "plt.xlabel('epoch')\n",
    "plt.legend(['train', 'test'], loc='upper left')\n",
    "plt.show"
   ]
  }
 ],
 "metadata": {
  "kernelspec": {
   "display_name": "Python [conda env:base] *",
   "language": "python",
   "name": "conda-base-py"
  },
  "language_info": {
   "codemirror_mode": {
    "name": "ipython",
    "version": 3
   },
   "file_extension": ".py",
   "mimetype": "text/x-python",
   "name": "python",
   "nbconvert_exporter": "python",
   "pygments_lexer": "ipython3",
   "version": "3.12.7"
  }
 },
 "nbformat": 4,
 "nbformat_minor": 5
}
